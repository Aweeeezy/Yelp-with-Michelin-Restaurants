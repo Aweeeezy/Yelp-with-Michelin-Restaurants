{
 "cells": [
  {
   "cell_type": "code",
   "execution_count": 1,
   "metadata": {
    "collapsed": false
   },
   "outputs": [
    {
     "data": {
      "text/plain": [
       "u'Connected: None@database.db'"
      ]
     },
     "execution_count": 1,
     "metadata": {},
     "output_type": "execute_result"
    }
   ],
   "source": [
    "%load_ext sql\n",
    "%sql sqlite://\n",
    "%sql sqlite:///database.db"
   ]
  },
  {
   "cell_type": "markdown",
   "metadata": {},
   "source": [
    "# Show the restaruant table"
   ]
  },
  {
   "cell_type": "code",
   "execution_count": 237,
   "metadata": {
    "collapsed": false
   },
   "outputs": [
    {
     "name": "stdout",
     "output_type": "stream",
     "text": [
      "Done.\n"
     ]
    },
    {
     "data": {
      "text/html": [
       "<table>\n",
       "    <tr>\n",
       "        <th>id</th>\n",
       "        <th>name</th>\n",
       "        <th>rating</th>\n",
       "        <th>url</th>\n",
       "        <th>price</th>\n",
       "        <th>review_count</th>\n",
       "        <th>phone</th>\n",
       "        <th>image_url</th>\n",
       "        <th>addressID</th>\n",
       "    </tr>\n",
       "    <tr>\n",
       "        <td>0</td>\n",
       "        <td>The Purple Pig</td>\n",
       "        <td>4.0</td>\n",
       "        <td>https//www.yelp.com/biz/the-purple-pig-chicago?adjust_creative=TgDi75JA_PwGLZfvhAmGyw&amp;utm_campaign=yelp_api_v3&amp;utm_medium=api_v3_business_search&amp;utm_source=TgDi75JA_PwGLZfvhAmGyw</td>\n",
       "        <td>$$</td>\n",
       "        <td>4939</td>\n",
       "        <td>(312) 464-1744</td>\n",
       "        <td>https://s3-media4.fl.yelpcdn.com/bphoto/_A9av72FoUEpGnf1WR7hIg/o.jpg</td>\n",
       "        <td>0</td>\n",
       "    </tr>\n",
       "    <tr>\n",
       "        <td>1</td>\n",
       "        <td>Au Cheval</td>\n",
       "        <td>4.5</td>\n",
       "        <td>https//www.yelp.com/biz/au-cheval-chicago?adjust_creative=TgDi75JA_PwGLZfvhAmGyw&amp;utm_campaign=yelp_api_v3&amp;utm_medium=api_v3_business_search&amp;utm_source=TgDi75JA_PwGLZfvhAmGyw</td>\n",
       "        <td>$$</td>\n",
       "        <td>3794</td>\n",
       "        <td>(312) 929-4580</td>\n",
       "        <td>https://s3-media4.fl.yelpcdn.com/bphoto/o7P1jZ8tMz5q8CYrcRrGbA/o.jpg</td>\n",
       "        <td>1</td>\n",
       "    </tr>\n",
       "</table>"
      ],
      "text/plain": [
       "[(0, u'The Purple Pig', 4.0, u'https//www.yelp.com/biz/the-purple-pig-chicago?adjust_creative=TgDi75JA_PwGLZfvhAmGyw&utm_campaign=yelp_api_v3&utm_medium=api_v3_business_search&utm_source=TgDi75JA_PwGLZfvhAmGyw', u'$$', 4939, u'(312) 464-1744', u'https://s3-media4.fl.yelpcdn.com/bphoto/_A9av72FoUEpGnf1WR7hIg/o.jpg', 0),\n",
       " (1, u'Au Cheval', 4.5, u'https//www.yelp.com/biz/au-cheval-chicago?adjust_creative=TgDi75JA_PwGLZfvhAmGyw&utm_campaign=yelp_api_v3&utm_medium=api_v3_business_search&utm_source=TgDi75JA_PwGLZfvhAmGyw', u'$$', 3794, u'(312) 929-4580', u'https://s3-media4.fl.yelpcdn.com/bphoto/o7P1jZ8tMz5q8CYrcRrGbA/o.jpg', 1)]"
      ]
     },
     "execution_count": 237,
     "metadata": {},
     "output_type": "execute_result"
    }
   ],
   "source": [
    "%sql select * from restaurant limit 2\n"
   ]
  },
  {
   "cell_type": "markdown",
   "metadata": {},
   "source": [
    "# show the address table"
   ]
  },
  {
   "cell_type": "code",
   "execution_count": 9,
   "metadata": {
    "collapsed": false
   },
   "outputs": [
    {
     "name": "stdout",
     "output_type": "stream",
     "text": [
      "Done.\n"
     ]
    },
    {
     "data": {
      "text/html": [
       "<table>\n",
       "    <tr>\n",
       "        <th>addressID</th>\n",
       "        <th>street</th>\n",
       "        <th>city</th>\n",
       "        <th>zip_code</th>\n",
       "    </tr>\n",
       "    <tr>\n",
       "        <td>0</td>\n",
       "        <td>500 N Michigan Ave</td>\n",
       "        <td>Chicago</td>\n",
       "        <td>60611</td>\n",
       "    </tr>\n",
       "</table>"
      ],
      "text/plain": [
       "[(0, u'500 N Michigan Ave', u'Chicago', 60611)]"
      ]
     },
     "execution_count": 9,
     "metadata": {},
     "output_type": "execute_result"
    }
   ],
   "source": [
    "%sql select * from address limit 1\n"
   ]
  },
  {
   "cell_type": "markdown",
   "metadata": {},
   "source": [
    "# show the belong_to relational table"
   ]
  },
  {
   "cell_type": "code",
   "execution_count": 13,
   "metadata": {
    "collapsed": false
   },
   "outputs": [
    {
     "name": "stdout",
     "output_type": "stream",
     "text": [
      "Done.\n"
     ]
    },
    {
     "data": {
      "text/html": [
       "<table>\n",
       "    <tr>\n",
       "        <th>zip_code</th>\n",
       "        <th>state_id</th>\n",
       "    </tr>\n",
       "    <tr>\n",
       "        <td>60611</td>\n",
       "        <td>0</td>\n",
       "    </tr>\n",
       "</table>"
      ],
      "text/plain": [
       "[(60611, 0)]"
      ]
     },
     "execution_count": 13,
     "metadata": {},
     "output_type": "execute_result"
    }
   ],
   "source": [
    "%sql select * from belong_to limit 1\n"
   ]
  },
  {
   "cell_type": "markdown",
   "metadata": {},
   "source": [
    "# show the restaruant_by_category relational table"
   ]
  },
  {
   "cell_type": "code",
   "execution_count": 18,
   "metadata": {
    "collapsed": false
   },
   "outputs": [
    {
     "name": "stdout",
     "output_type": "stream",
     "text": [
      "Done.\n"
     ]
    },
    {
     "data": {
      "text/html": [
       "<table>\n",
       "    <tr>\n",
       "        <th>restaurant_id</th>\n",
       "        <th>category_id</th>\n",
       "    </tr>\n",
       "    <tr>\n",
       "        <td>0</td>\n",
       "        <td>0</td>\n",
       "    </tr>\n",
       "</table>"
      ],
      "text/plain": [
       "[(0, 0)]"
      ]
     },
     "execution_count": 18,
     "metadata": {},
     "output_type": "execute_result"
    }
   ],
   "source": [
    "%sql select * from restaurant_by_category limit 1\n"
   ]
  },
  {
   "cell_type": "markdown",
   "metadata": {},
   "source": [
    "# show the category table"
   ]
  },
  {
   "cell_type": "code",
   "execution_count": 17,
   "metadata": {
    "collapsed": false
   },
   "outputs": [
    {
     "name": "stdout",
     "output_type": "stream",
     "text": [
      "Done.\n"
     ]
    },
    {
     "data": {
      "text/html": [
       "<table>\n",
       "    <tr>\n",
       "        <th>id</th>\n",
       "        <th>title</th>\n",
       "    </tr>\n",
       "    <tr>\n",
       "        <td>0</td>\n",
       "        <td>Tapas/Small Plates</td>\n",
       "    </tr>\n",
       "</table>"
      ],
      "text/plain": [
       "[(0, u'Tapas/Small Plates')]"
      ]
     },
     "execution_count": 17,
     "metadata": {},
     "output_type": "execute_result"
    }
   ],
   "source": [
    "%sql select * from category limit 1"
   ]
  },
  {
   "cell_type": "markdown",
   "metadata": {},
   "source": [
    "# create trigger when insert a new restaurant if the ID already exist then report."
   ]
  },
  {
   "cell_type": "code",
   "execution_count": 245,
   "metadata": {
    "collapsed": false
   },
   "outputs": [
    {
     "name": "stdout",
     "output_type": "stream",
     "text": [
      "Done.\n"
     ]
    },
    {
     "data": {
      "text/plain": [
       "[]"
      ]
     },
     "execution_count": 245,
     "metadata": {},
     "output_type": "execute_result"
    }
   ],
   "source": [
    "%%sql\n",
    "CREATE TRIGGER IF NOT EXISTS inserrestaurant\n",
    "BEFORE INSERT ON restaurant\n",
    "FOR EACH ROW\n",
    "WHEN(EXISTS (SELECT * FROM restaurant\n",
    "            WHERE NEW.id=id))\n",
    "BEGIN \n",
    "    SELECT RAISE(ABORT, 'ID exists');\n",
    "END;\n"
   ]
  },
  {
   "cell_type": "markdown",
   "metadata": {},
   "source": [
    "# create trigger when insert a new address if the ID already exist then report."
   ]
  },
  {
   "cell_type": "code",
   "execution_count": 247,
   "metadata": {
    "collapsed": false
   },
   "outputs": [
    {
     "name": "stdout",
     "output_type": "stream",
     "text": [
      "Done.\n"
     ]
    },
    {
     "data": {
      "text/plain": [
       "[]"
      ]
     },
     "execution_count": 247,
     "metadata": {},
     "output_type": "execute_result"
    }
   ],
   "source": [
    "%%sql\n",
    "CREATE TRIGGER IF NOT EXISTS insertAddress\n",
    "BEFORE INSERT ON address\n",
    "FOR EACH ROW\n",
    "WHEN(EXISTS (SELECT * FROM address WHERE NEW.addressID=addressID))\n",
    "BEGIN\n",
    "    SELECT RAISE(ABORT, 'address exists');\n",
    "END;"
   ]
  },
  {
   "cell_type": "markdown",
   "metadata": {},
   "source": [
    "# insert a new record into restaurant and address table"
   ]
  },
  {
   "cell_type": "code",
   "execution_count": 254,
   "metadata": {
    "collapsed": false
   },
   "outputs": [
    {
     "name": "stdout",
     "output_type": "stream",
     "text": [
      "1 rows affected.\n",
      "1 rows affected.\n"
     ]
    },
    {
     "data": {
      "text/plain": [
       "[]"
      ]
     },
     "execution_count": 254,
     "metadata": {},
     "output_type": "execute_result"
    }
   ],
   "source": [
    "%%sql\n",
    "insert into restaurant(name, rating, url, price, review_count, image_url, addressID) values ('Sawa Sushi','www.sawasushi.com',4.5,'$$$$',196,\"Null\",'384');\n",
    "insert into address values(384,'1042 E El Camino Real','Sunnyvale',94087);"
   ]
  },
  {
   "cell_type": "markdown",
   "metadata": {},
   "source": [
    "# searching restaurant by name from restaurant table"
   ]
  },
  {
   "cell_type": "code",
   "execution_count": 256,
   "metadata": {
    "collapsed": false
   },
   "outputs": [
    {
     "name": "stdout",
     "output_type": "stream",
     "text": [
      "Done.\n"
     ]
    },
    {
     "data": {
      "text/html": [
       "<table>\n",
       "    <tr>\n",
       "        <th>id</th>\n",
       "        <th>name</th>\n",
       "        <th>phone</th>\n",
       "        <th>rating</th>\n",
       "    </tr>\n",
       "    <tr>\n",
       "        <td>273</td>\n",
       "        <td>State Bird Provisions</td>\n",
       "        <td>(415) 795-1272</td>\n",
       "        <td>4.0</td>\n",
       "    </tr>\n",
       "</table>"
      ],
      "text/plain": [
       "[(273, u'State Bird Provisions', u'(415) 795-1272', 4.0)]"
      ]
     },
     "execution_count": 256,
     "metadata": {},
     "output_type": "execute_result"
    }
   ],
   "source": [
    "%%sql\n",
    "select id, name, phone, rating from restaurant where name LIKE '%Bird Provisions%' "
   ]
  },
  {
   "cell_type": "markdown",
   "metadata": {},
   "source": [
    "# searching restaurant by zip_code from restaurant and address table"
   ]
  },
  {
   "cell_type": "code",
   "execution_count": 25,
   "metadata": {
    "collapsed": false
   },
   "outputs": [
    {
     "name": "stdout",
     "output_type": "stream",
     "text": [
      "Done.\n"
     ]
    },
    {
     "data": {
      "text/html": [
       "<table>\n",
       "    <tr>\n",
       "        <th>id</th>\n",
       "        <th>name</th>\n",
       "        <th>phone</th>\n",
       "        <th>rating</th>\n",
       "        <th>street</th>\n",
       "        <th>city</th>\n",
       "        <th>zip_code</th>\n",
       "    </tr>\n",
       "    <tr>\n",
       "        <td>380</td>\n",
       "        <td>SPQR</td>\n",
       "        <td>(415) 771-7779</td>\n",
       "        <td>3.5</td>\n",
       "        <td>1911 Fillmore St</td>\n",
       "        <td>San Francisco</td>\n",
       "        <td>94115</td>\n",
       "    </tr>\n",
       "    <tr>\n",
       "        <td>273</td>\n",
       "        <td>State Bird Provisions</td>\n",
       "        <td>(415) 795-1272</td>\n",
       "        <td>4.0</td>\n",
       "        <td>1529 Fillmore St</td>\n",
       "        <td>San Francisco</td>\n",
       "        <td>94115</td>\n",
       "    </tr>\n",
       "    <tr>\n",
       "        <td>354</td>\n",
       "        <td>Nico</td>\n",
       "        <td>(415) 359-1000</td>\n",
       "        <td>4.0</td>\n",
       "        <td>3228 Sacramento St</td>\n",
       "        <td>San Francisco</td>\n",
       "        <td>94115</td>\n",
       "    </tr>\n",
       "    <tr>\n",
       "        <td>366</td>\n",
       "        <td>The Progress</td>\n",
       "        <td>(415) 673-1294</td>\n",
       "        <td>4.0</td>\n",
       "        <td>1525 Fillmore St</td>\n",
       "        <td>San Francisco</td>\n",
       "        <td>94115</td>\n",
       "    </tr>\n",
       "    <tr>\n",
       "        <td>322</td>\n",
       "        <td>Mosu</td>\n",
       "        <td>(415) 735-7303</td>\n",
       "        <td>4.5</td>\n",
       "        <td>1552 Fillmore St</td>\n",
       "        <td>San Francisco</td>\n",
       "        <td>94115</td>\n",
       "    </tr>\n",
       "</table>"
      ],
      "text/plain": [
       "[(380, u'SPQR', u'(415) 771-7779', 3.5, u'1911 Fillmore St', u'San Francisco', 94115),\n",
       " (273, u'State Bird Provisions', u'(415) 795-1272', 4.0, u'1529 Fillmore St', u'San Francisco', 94115),\n",
       " (354, u'Nico', u'(415) 359-1000', 4.0, u'3228 Sacramento St', u'San Francisco', 94115),\n",
       " (366, u'The Progress', u'(415) 673-1294', 4.0, u'1525 Fillmore St', u'San Francisco', 94115),\n",
       " (322, u'Mosu', u'(415) 735-7303', 4.5, u'1552 Fillmore St', u'San Francisco', 94115)]"
      ]
     },
     "execution_count": 25,
     "metadata": {},
     "output_type": "execute_result"
    }
   ],
   "source": [
    "%%sql\n",
    "SELECT r.id, r.name,r.phone, r.rating , a.street, a.city, a.zip_code \n",
    "FROM restaurant r, address a \n",
    "WHERE r.addressID=a.addressID AND a.zip_code= 94115\n",
    "order by rating"
   ]
  },
  {
   "cell_type": "markdown",
   "metadata": {},
   "source": [
    "# Searching restaurant and the address by partical name of restaurant"
   ]
  },
  {
   "cell_type": "code",
   "execution_count": 29,
   "metadata": {
    "collapsed": false
   },
   "outputs": [
    {
     "name": "stdout",
     "output_type": "stream",
     "text": [
      "Done.\n"
     ]
    },
    {
     "data": {
      "text/html": [
       "<table>\n",
       "    <tr>\n",
       "        <th>id</th>\n",
       "        <th>name</th>\n",
       "        <th>phone</th>\n",
       "        <th>rating</th>\n",
       "        <th>street</th>\n",
       "        <th>city</th>\n",
       "        <th>zip_code</th>\n",
       "    </tr>\n",
       "    <tr>\n",
       "        <td>200</td>\n",
       "        <td>Meadowsweet</td>\n",
       "        <td>(718) 384-0673</td>\n",
       "        <td>4.0</td>\n",
       "        <td>149 Broadway</td>\n",
       "        <td>Brooklyn</td>\n",
       "        <td>11211</td>\n",
       "    </tr>\n",
       "</table>"
      ],
      "text/plain": [
       "[(200, u'Meadowsweet', u'(718) 384-0673', 4.0, u'149 Broadway', u'Brooklyn', 11211)]"
      ]
     },
     "execution_count": 29,
     "metadata": {},
     "output_type": "execute_result"
    }
   ],
   "source": [
    "%%sql\n",
    "SELECT r.id, r.name,r.phone, r.rating , a.street, a.city, a.zip_code \n",
    "FROM restaurant r, address a \n",
    "WHERE r.addressID=a.addressID AND r.name LIKE '%dowsweet%'"
   ]
  },
  {
   "cell_type": "markdown",
   "metadata": {},
   "source": [
    "# searching restaurant and address by city and rating>4.5"
   ]
  },
  {
   "cell_type": "code",
   "execution_count": 56,
   "metadata": {
    "collapsed": false
   },
   "outputs": [
    {
     "name": "stdout",
     "output_type": "stream",
     "text": [
      "Done.\n"
     ]
    },
    {
     "data": {
      "text/html": [
       "<table>\n",
       "    <tr>\n",
       "        <th>name</th>\n",
       "        <th>phone</th>\n",
       "        <th>rating</th>\n",
       "        <th>street</th>\n",
       "        <th>city</th>\n",
       "        <th>zip_code</th>\n",
       "    </tr>\n",
       "    <tr>\n",
       "        <td>Oriole</td>\n",
       "        <td>(312) 877-5339</td>\n",
       "        <td>5.0</td>\n",
       "        <td>661 W Walnut St</td>\n",
       "        <td>Chicago</td>\n",
       "        <td>60661</td>\n",
       "    </tr>\n",
       "</table>"
      ],
      "text/plain": [
       "[(u'Oriole', u'(312) 877-5339', 5.0, u'661 W Walnut St', u'Chicago', 60661)]"
      ]
     },
     "execution_count": 56,
     "metadata": {},
     "output_type": "execute_result"
    }
   ],
   "source": [
    "%%sql\n",
    "SELECT r.name, r.phone, r.rating, a.street, a.city,a.zip_code\n",
    "FROM restaurant r, address a\n",
    "WHERE r.addressID=a.addressID AND a.city='Chicago' AND rating >4.5\n",
    "order by price"
   ]
  },
  {
   "cell_type": "markdown",
   "metadata": {},
   "source": [
    "# searching restaurant and address by city (with lower case letter) and rating = 5"
   ]
  },
  {
   "cell_type": "code",
   "execution_count": 38,
   "metadata": {
    "collapsed": false
   },
   "outputs": [
    {
     "name": "stdout",
     "output_type": "stream",
     "text": [
      "Done.\n"
     ]
    },
    {
     "data": {
      "text/html": [
       "<table>\n",
       "    <tr>\n",
       "        <th>name</th>\n",
       "        <th>phone</th>\n",
       "        <th>rating</th>\n",
       "        <th>street</th>\n",
       "        <th>city</th>\n",
       "        <th>zip_code</th>\n",
       "    </tr>\n",
       "    <tr>\n",
       "        <td>L'Appart</td>\n",
       "        <td>(212) 981-8577</td>\n",
       "        <td>5.0</td>\n",
       "        <td>225 Liberty St</td>\n",
       "        <td>New York</td>\n",
       "        <td>10281</td>\n",
       "    </tr>\n",
       "</table>"
      ],
      "text/plain": [
       "[(u\"L'Appart\", u'(212) 981-8577', 5.0, u'225 Liberty St', u'New York', 10281)]"
      ]
     },
     "execution_count": 38,
     "metadata": {},
     "output_type": "execute_result"
    }
   ],
   "source": [
    "%%sql\n",
    "SELECT r.name,  r.phone, r.rating, a.street, a.city,a.zip_code\n",
    "FROM restaurant r, address a\n",
    "WHERE r.addressID=a.addressID AND rating=5 AND UPPER(city)= UPPER('new york')\n"
   ]
  },
  {
   "cell_type": "markdown",
   "metadata": {},
   "source": [
    "# searching restaurant and address by street."
   ]
  },
  {
   "cell_type": "code",
   "execution_count": 43,
   "metadata": {
    "collapsed": false
   },
   "outputs": [
    {
     "name": "stdout",
     "output_type": "stream",
     "text": [
      "Done.\n"
     ]
    },
    {
     "data": {
      "text/html": [
       "<table>\n",
       "    <tr>\n",
       "        <th>name</th>\n",
       "        <th>phone</th>\n",
       "        <th>rating</th>\n",
       "        <th>street</th>\n",
       "        <th>city</th>\n",
       "        <th>zip_code</th>\n",
       "    </tr>\n",
       "    <tr>\n",
       "        <td>Nyonya</td>\n",
       "        <td>(212) 334-3669</td>\n",
       "        <td>4.0</td>\n",
       "        <td>199 Grand St</td>\n",
       "        <td>New York</td>\n",
       "        <td>10013</td>\n",
       "    </tr>\n",
       "    <tr>\n",
       "        <td>Aurora</td>\n",
       "        <td>(718) 388-5100</td>\n",
       "        <td>4.0</td>\n",
       "        <td>70 Grand St</td>\n",
       "        <td>Brooklyn</td>\n",
       "        <td>11249</td>\n",
       "    </tr>\n",
       "    <tr>\n",
       "        <td>The Saint Austere</td>\n",
       "        <td>(718) 388-0012</td>\n",
       "        <td>4.5</td>\n",
       "        <td>613 Grand St</td>\n",
       "        <td>Brooklyn</td>\n",
       "        <td>11211</td>\n",
       "    </tr>\n",
       "</table>"
      ],
      "text/plain": [
       "[(u'Nyonya', u'(212) 334-3669', 4.0, u'199 Grand St', u'New York', 10013),\n",
       " (u'Aurora', u'(718) 388-5100', 4.0, u'70 Grand St', u'Brooklyn', 11249),\n",
       " (u'The Saint Austere', u'(718) 388-0012', 4.5, u'613 Grand St', u'Brooklyn', 11211)]"
      ]
     },
     "execution_count": 43,
     "metadata": {},
     "output_type": "execute_result"
    }
   ],
   "source": [
    "%%sql\n",
    "SELECT r.name,r.phone, r.rating,a.street, a.city, a.zip_code\n",
    "FROM restaurant r, address a\n",
    "WHERE r.addressID=a.addressID and UPPER (street) LIKE UPPER('%Grand St%')"
   ]
  },
  {
   "cell_type": "markdown",
   "metadata": {},
   "source": [
    "# searching restaurant and address by street and city."
   ]
  },
  {
   "cell_type": "code",
   "execution_count": 44,
   "metadata": {
    "collapsed": false
   },
   "outputs": [
    {
     "name": "stdout",
     "output_type": "stream",
     "text": [
      "Done.\n"
     ]
    },
    {
     "data": {
      "text/html": [
       "<table>\n",
       "    <tr>\n",
       "        <th>name</th>\n",
       "        <th>phone</th>\n",
       "        <th>rating</th>\n",
       "        <th>street</th>\n",
       "        <th>city</th>\n",
       "        <th>zip_code</th>\n",
       "    </tr>\n",
       "    <tr>\n",
       "        <td>Aurora</td>\n",
       "        <td>(718) 388-5100</td>\n",
       "        <td>4.0</td>\n",
       "        <td>70 Grand St</td>\n",
       "        <td>Brooklyn</td>\n",
       "        <td>11249</td>\n",
       "    </tr>\n",
       "    <tr>\n",
       "        <td>The Saint Austere</td>\n",
       "        <td>(718) 388-0012</td>\n",
       "        <td>4.5</td>\n",
       "        <td>613 Grand St</td>\n",
       "        <td>Brooklyn</td>\n",
       "        <td>11211</td>\n",
       "    </tr>\n",
       "</table>"
      ],
      "text/plain": [
       "[(u'Aurora', u'(718) 388-5100', 4.0, u'70 Grand St', u'Brooklyn', 11249),\n",
       " (u'The Saint Austere', u'(718) 388-0012', 4.5, u'613 Grand St', u'Brooklyn', 11211)]"
      ]
     },
     "execution_count": 44,
     "metadata": {},
     "output_type": "execute_result"
    }
   ],
   "source": [
    "%%sql\n",
    "SELECT r.name,r.phone, r.rating,a.street, a.city, a.zip_code\n",
    "FROM restaurant r, address a\n",
    "WHERE r.addressID=a.addressID and UPPER (street) LIKE UPPER('%Grand St%') and city=\"Brooklyn\""
   ]
  },
  {
   "cell_type": "markdown",
   "metadata": {},
   "source": [
    "# searching restaurant and address by street, city and rating >= 4.5"
   ]
  },
  {
   "cell_type": "code",
   "execution_count": 46,
   "metadata": {
    "collapsed": false,
    "scrolled": true
   },
   "outputs": [
    {
     "name": "stdout",
     "output_type": "stream",
     "text": [
      "Done.\n"
     ]
    },
    {
     "data": {
      "text/html": [
       "<table>\n",
       "    <tr>\n",
       "        <th>name</th>\n",
       "        <th>phone</th>\n",
       "        <th>rating</th>\n",
       "        <th>street</th>\n",
       "        <th>city</th>\n",
       "        <th>zip_code</th>\n",
       "    </tr>\n",
       "    <tr>\n",
       "        <td>The Saint Austere</td>\n",
       "        <td>(718) 388-0012</td>\n",
       "        <td>4.5</td>\n",
       "        <td>613 Grand St</td>\n",
       "        <td>Brooklyn</td>\n",
       "        <td>11211</td>\n",
       "    </tr>\n",
       "</table>"
      ],
      "text/plain": [
       "[(u'The Saint Austere', u'(718) 388-0012', 4.5, u'613 Grand St', u'Brooklyn', 11211)]"
      ]
     },
     "execution_count": 46,
     "metadata": {},
     "output_type": "execute_result"
    }
   ],
   "source": [
    "%%sql\n",
    "SELECT r.name,r.phone, r.rating,a.street, a.city, a.zip_code\n",
    "FROM restaurant r, address a\n",
    "WHERE r.addressID=a.addressID and UPPER (street) LIKE UPPER('%Grand St%') and city=\"Brooklyn\" and rating>=4.5"
   ]
  },
  {
   "cell_type": "markdown",
   "metadata": {},
   "source": [
    "# searching restaurant and address by zip_code and rating>= 4, sort by price."
   ]
  },
  {
   "cell_type": "code",
   "execution_count": 54,
   "metadata": {
    "collapsed": false
   },
   "outputs": [
    {
     "name": "stdout",
     "output_type": "stream",
     "text": [
      "Done.\n"
     ]
    },
    {
     "data": {
      "text/html": [
       "<table>\n",
       "    <tr>\n",
       "        <th>name</th>\n",
       "        <th>phone</th>\n",
       "        <th>street</th>\n",
       "        <th>city</th>\n",
       "    </tr>\n",
       "    <tr>\n",
       "        <td>Mosu</td>\n",
       "        <td>(415) 735-7303</td>\n",
       "        <td>1552 Fillmore St</td>\n",
       "        <td>San Francisco</td>\n",
       "    </tr>\n",
       "    <tr>\n",
       "        <td>The Progress</td>\n",
       "        <td>(415) 673-1294</td>\n",
       "        <td>1525 Fillmore St</td>\n",
       "        <td>San Francisco</td>\n",
       "    </tr>\n",
       "    <tr>\n",
       "        <td>State Bird Provisions</td>\n",
       "        <td>(415) 795-1272</td>\n",
       "        <td>1529 Fillmore St</td>\n",
       "        <td>San Francisco</td>\n",
       "    </tr>\n",
       "    <tr>\n",
       "        <td>Nico</td>\n",
       "        <td>(415) 359-1000</td>\n",
       "        <td>3228 Sacramento St</td>\n",
       "        <td>San Francisco</td>\n",
       "    </tr>\n",
       "</table>"
      ],
      "text/plain": [
       "[(u'Mosu', u'(415) 735-7303', u'1552 Fillmore St', u'San Francisco'),\n",
       " (u'The Progress', u'(415) 673-1294', u'1525 Fillmore St', u'San Francisco'),\n",
       " (u'State Bird Provisions', u'(415) 795-1272', u'1529 Fillmore St', u'San Francisco'),\n",
       " (u'Nico', u'(415) 359-1000', u'3228 Sacramento St', u'San Francisco')]"
      ]
     },
     "execution_count": 54,
     "metadata": {},
     "output_type": "execute_result"
    }
   ],
   "source": [
    "%%sql\n",
    "SELECT r.name, r.phone, a.street, a.city\n",
    "From restaurant r, address a\n",
    "WHERE r.addressID = a.addressID and zip_code =94115 and rating>=4\n",
    "ORDER BY price DESC"
   ]
  },
  {
   "cell_type": "markdown",
   "metadata": {},
   "source": [
    "# searching restaurant and address by city and review_count>2200 then sort by rating and price."
   ]
  },
  {
   "cell_type": "code",
   "execution_count": 69,
   "metadata": {
    "collapsed": false
   },
   "outputs": [
    {
     "name": "stdout",
     "output_type": "stream",
     "text": [
      "Done.\n"
     ]
    },
    {
     "data": {
      "text/html": [
       "<table>\n",
       "    <tr>\n",
       "        <th>id</th>\n",
       "        <th>name</th>\n",
       "        <th>phone</th>\n",
       "        <th>rating</th>\n",
       "        <th>street</th>\n",
       "        <th>url</th>\n",
       "        <th>price</th>\n",
       "    </tr>\n",
       "    <tr>\n",
       "        <td>133</td>\n",
       "        <td>Joe's Shanghai</td>\n",
       "        <td>(212) 233-8888</td>\n",
       "        <td>4.0</td>\n",
       "        <td>9 Pell St</td>\n",
       "        <td>https//www.yelp.com/biz/joes-shanghai-new-york-2?adjust_creative=TgDi75JA_PwGLZfvhAmGyw&amp;utm_campaign=yelp_api_v3&amp;utm_medium=api_v3_business_search&amp;utm_source=TgDi75JA_PwGLZfvhAmGyw</td>\n",
       "        <td>$$</td>\n",
       "    </tr>\n",
       "    <tr>\n",
       "        <td>153</td>\n",
       "        <td>ABC Kitchen</td>\n",
       "        <td>(212) 475-5829</td>\n",
       "        <td>4.0</td>\n",
       "        <td>35 E 18th St</td>\n",
       "        <td>https//www.yelp.com/biz/abc-kitchen-new-york?adjust_creative=TgDi75JA_PwGLZfvhAmGyw&amp;utm_campaign=yelp_api_v3&amp;utm_medium=api_v3_business_search&amp;utm_source=TgDi75JA_PwGLZfvhAmGyw</td>\n",
       "        <td>$$$</td>\n",
       "    </tr>\n",
       "    <tr>\n",
       "        <td>238</td>\n",
       "        <td>The Stanton Social</td>\n",
       "        <td>(212) 995-0099</td>\n",
       "        <td>4.0</td>\n",
       "        <td>99 Stanton St</td>\n",
       "        <td>https//www.yelp.com/biz/the-stanton-social-new-york?adjust_creative=TgDi75JA_PwGLZfvhAmGyw&amp;utm_campaign=yelp_api_v3&amp;utm_medium=api_v3_business_search&amp;utm_source=TgDi75JA_PwGLZfvhAmGyw</td>\n",
       "        <td>$$$</td>\n",
       "    </tr>\n",
       "    <tr>\n",
       "        <td>136</td>\n",
       "        <td>Gramercy Tavern</td>\n",
       "        <td>(212) 477-0777</td>\n",
       "        <td>4.5</td>\n",
       "        <td>42 E 20th St</td>\n",
       "        <td>https//www.yelp.com/biz/gramercy-tavern-new-york?adjust_creative=TgDi75JA_PwGLZfvhAmGyw&amp;utm_campaign=yelp_api_v3&amp;utm_medium=api_v3_business_search&amp;utm_source=TgDi75JA_PwGLZfvhAmGyw</td>\n",
       "        <td>$$$$</td>\n",
       "    </tr>\n",
       "</table>"
      ],
      "text/plain": [
       "[(133, u\"Joe's Shanghai\", u'(212) 233-8888', 4.0, u'9 Pell St', u'https//www.yelp.com/biz/joes-shanghai-new-york-2?adjust_creative=TgDi75JA_PwGLZfvhAmGyw&utm_campaign=yelp_api_v3&utm_medium=api_v3_business_search&utm_source=TgDi75JA_PwGLZfvhAmGyw', u'$$'),\n",
       " (153, u'ABC Kitchen', u'(212) 475-5829', 4.0, u'35 E 18th St', u'https//www.yelp.com/biz/abc-kitchen-new-york?adjust_creative=TgDi75JA_PwGLZfvhAmGyw&utm_campaign=yelp_api_v3&utm_medium=api_v3_business_search&utm_source=TgDi75JA_PwGLZfvhAmGyw', u'$$$'),\n",
       " (238, u'The Stanton Social', u'(212) 995-0099', 4.0, u'99 Stanton St', u'https//www.yelp.com/biz/the-stanton-social-new-york?adjust_creative=TgDi75JA_PwGLZfvhAmGyw&utm_campaign=yelp_api_v3&utm_medium=api_v3_business_search&utm_source=TgDi75JA_PwGLZfvhAmGyw', u'$$$'),\n",
       " (136, u'Gramercy Tavern', u'(212) 477-0777', 4.5, u'42 E 20th St', u'https//www.yelp.com/biz/gramercy-tavern-new-york?adjust_creative=TgDi75JA_PwGLZfvhAmGyw&utm_campaign=yelp_api_v3&utm_medium=api_v3_business_search&utm_source=TgDi75JA_PwGLZfvhAmGyw', u'$$$$')]"
      ]
     },
     "execution_count": 69,
     "metadata": {},
     "output_type": "execute_result"
    }
   ],
   "source": [
    "%%sql\n",
    "select r.id, r.name, r.phone, r.rating, a.street,r.url,r.price\n",
    "from restaurant r, address a\n",
    "where r.addressID = a.addressID and upper(city)=upper('new york') and review_count>2200 \n",
    "order by rating, price"
   ]
  },
  {
   "cell_type": "markdown",
   "metadata": {},
   "source": [
    "# searching restaurant and address by rating>=4.5, review_count>2000, and zip_code in california then sort results by rating and price."
   ]
  },
  {
   "cell_type": "code",
   "execution_count": 93,
   "metadata": {
    "collapsed": false
   },
   "outputs": [
    {
     "name": "stdout",
     "output_type": "stream",
     "text": [
      "Done.\n"
     ]
    },
    {
     "data": {
      "text/html": [
       "<table>\n",
       "    <tr>\n",
       "        <th>id</th>\n",
       "        <th>name</th>\n",
       "        <th>phone</th>\n",
       "        <th>rating</th>\n",
       "        <th>street</th>\n",
       "        <th>city</th>\n",
       "        <th>price</th>\n",
       "    </tr>\n",
       "    <tr>\n",
       "        <td>294</td>\n",
       "        <td>Kokkari Estiatorio</td>\n",
       "        <td>(415) 981-0983</td>\n",
       "        <td>4.5</td>\n",
       "        <td>200 Jackson St</td>\n",
       "        <td>San Francisco</td>\n",
       "        <td>$$$</td>\n",
       "    </tr>\n",
       "    <tr>\n",
       "        <td>353</td>\n",
       "        <td>Chapeau!</td>\n",
       "        <td>(415) 750-9787</td>\n",
       "        <td>4.5</td>\n",
       "        <td>126 Clement St</td>\n",
       "        <td>San Francisco</td>\n",
       "        <td>$$$</td>\n",
       "    </tr>\n",
       "    <tr>\n",
       "        <td>274</td>\n",
       "        <td>Gary Danko</td>\n",
       "        <td>(415) 749-2060</td>\n",
       "        <td>4.5</td>\n",
       "        <td>800 N Point St</td>\n",
       "        <td>San Francisco</td>\n",
       "        <td>$$$$</td>\n",
       "    </tr>\n",
       "</table>"
      ],
      "text/plain": [
       "[(294, u'Kokkari Estiatorio', u'(415) 981-0983', 4.5, u'200 Jackson St', u'San Francisco', u'$$$'),\n",
       " (353, u'Chapeau!', u'(415) 750-9787', 4.5, u'126 Clement St', u'San Francisco', u'$$$'),\n",
       " (274, u'Gary Danko', u'(415) 749-2060', 4.5, u'800 N Point St', u'San Francisco', u'$$$$')]"
      ]
     },
     "execution_count": 93,
     "metadata": {},
     "output_type": "execute_result"
    }
   ],
   "source": [
    "%%sql\n",
    "select r.id, r.name, r.phone, r.rating, a.street,a.city,r.price\n",
    "from restaurant r, address a\n",
    "where r.addressID = a.addressID and rating >=4.5 and review_count>2000 \n",
    "and a.zip_code IN(\n",
    "     select b.zip_code \n",
    "     from state s, belong_to b\n",
    "    where s.stateID=b.state_id and upper(s.statename) =upper('california'))\n",
    "order by rating, price"
   ]
  },
  {
   "cell_type": "markdown",
   "metadata": {},
   "source": [
    "# searching restaurant and it's category by restaurant name. "
   ]
  },
  {
   "cell_type": "code",
   "execution_count": 100,
   "metadata": {
    "collapsed": false
   },
   "outputs": [
    {
     "name": "stdout",
     "output_type": "stream",
     "text": [
      "Done.\n"
     ]
    },
    {
     "data": {
      "text/html": [
       "<table>\n",
       "    <tr>\n",
       "        <th>id</th>\n",
       "        <th>name</th>\n",
       "        <th>phone</th>\n",
       "        <th>rating</th>\n",
       "        <th>title</th>\n",
       "    </tr>\n",
       "    <tr>\n",
       "        <td>49</td>\n",
       "        <td>Antique Taco</td>\n",
       "        <td>(773) 823-9410</td>\n",
       "        <td>3.5</td>\n",
       "        <td>Desserts</td>\n",
       "    </tr>\n",
       "    <tr>\n",
       "        <td>49</td>\n",
       "        <td>Antique Taco</td>\n",
       "        <td>(773) 823-9410</td>\n",
       "        <td>3.5</td>\n",
       "        <td>Bars</td>\n",
       "    </tr>\n",
       "    <tr>\n",
       "        <td>68</td>\n",
       "        <td>Antique Taco</td>\n",
       "        <td>(773) 687-8697</td>\n",
       "        <td>4.0</td>\n",
       "        <td>Beer Bar</td>\n",
       "    </tr>\n",
       "    <tr>\n",
       "        <td>68</td>\n",
       "        <td>Antique Taco</td>\n",
       "        <td>(773) 687-8697</td>\n",
       "        <td>4.0</td>\n",
       "        <td>Lounges</td>\n",
       "    </tr>\n",
       "</table>"
      ],
      "text/plain": [
       "[(49, u'Antique Taco', u'(773) 823-9410', 3.5, u'Desserts'),\n",
       " (49, u'Antique Taco', u'(773) 823-9410', 3.5, u'Bars'),\n",
       " (68, u'Antique Taco', u'(773) 687-8697', 4.0, u'Beer Bar'),\n",
       " (68, u'Antique Taco', u'(773) 687-8697', 4.0, u'Lounges')]"
      ]
     },
     "execution_count": 100,
     "metadata": {},
     "output_type": "execute_result"
    }
   ],
   "source": [
    "%%sql\n",
    "SELECT r.id,r.name,r.phone, r.rating, c.title\n",
    "from restaurant r, category c, restaurant_by_category rc\n",
    "where r.id=rc.restaurant_id and rc.category_id=c.id and r.name like '%Antique Taco%'"
   ]
  },
  {
   "cell_type": "markdown",
   "metadata": {},
   "source": [
    "# Excute all restaurants with their category title which having more than three different category."
   ]
  },
  {
   "cell_type": "code",
   "execution_count": 6,
   "metadata": {
    "collapsed": false
   },
   "outputs": [
    {
     "name": "stdout",
     "output_type": "stream",
     "text": [
      "Done.\n"
     ]
    },
    {
     "data": {
      "text/html": [
       "<table>\n",
       "    <tr>\n",
       "        <th>id</th>\n",
       "        <th>name</th>\n",
       "        <th>phone</th>\n",
       "        <th>rating</th>\n",
       "        <th>categorycount</th>\n",
       "    </tr>\n",
       "    <tr>\n",
       "        <td>68</td>\n",
       "        <td>Antique Taco</td>\n",
       "        <td>(773) 687-8697</td>\n",
       "        <td>4.0</td>\n",
       "        <td>4</td>\n",
       "    </tr>\n",
       "    <tr>\n",
       "        <td>89</td>\n",
       "        <td>Rojo Gusano</td>\n",
       "        <td>(773) 539-4398</td>\n",
       "        <td>4.0</td>\n",
       "        <td>4</td>\n",
       "    </tr>\n",
       "    <tr>\n",
       "        <td>87</td>\n",
       "        <td>The Angry Crab</td>\n",
       "        <td>(773) 687-9929</td>\n",
       "        <td>3.5</td>\n",
       "        <td>6</td>\n",
       "    </tr>\n",
       "</table>"
      ],
      "text/plain": [
       "[(68, u'Antique Taco', u'(773) 687-8697', 4.0, 4),\n",
       " (89, u'Rojo Gusano', u'(773) 539-4398', 4.0, 4),\n",
       " (87, u'The Angry Crab', u'(773) 687-9929', 3.5, 6)]"
      ]
     },
     "execution_count": 6,
     "metadata": {},
     "output_type": "execute_result"
    }
   ],
   "source": [
    "%%sql\n",
    "SELECT r.id,r.name,r.phone, r.rating, count(*) as categorycount\n",
    "from restaurant r, category c, restaurant_by_category rc\n",
    "where r.id=rc.restaurant_id and rc.category_id=c.id \n",
    "group by r.name\n",
    "having count(distinct c.title)>3\n",
    "order by count(*)"
   ]
  },
  {
   "cell_type": "markdown",
   "metadata": {},
   "source": [
    "# searching restaurant and address by city and category title sort results by price."
   ]
  },
  {
   "cell_type": "code",
   "execution_count": 107,
   "metadata": {
    "collapsed": false
   },
   "outputs": [
    {
     "name": "stdout",
     "output_type": "stream",
     "text": [
      "Done.\n"
     ]
    },
    {
     "data": {
      "text/html": [
       "<table>\n",
       "    <tr>\n",
       "        <th>id</th>\n",
       "        <th>name</th>\n",
       "        <th>phone</th>\n",
       "        <th>rating</th>\n",
       "        <th>title</th>\n",
       "        <th>street</th>\n",
       "        <th>city</th>\n",
       "        <th>price</th>\n",
       "    </tr>\n",
       "    <tr>\n",
       "        <td>251</td>\n",
       "        <td>Cafe Sabarsky</td>\n",
       "        <td>(212) 288-0665</td>\n",
       "        <td>4.0</td>\n",
       "        <td>Burgers</td>\n",
       "        <td>1048 5th Ave</td>\n",
       "        <td>New York</td>\n",
       "        <td>$$</td>\n",
       "    </tr>\n",
       "    <tr>\n",
       "        <td>179</td>\n",
       "        <td>Schilling</td>\n",
       "        <td>(212) 406-1200</td>\n",
       "        <td>4.5</td>\n",
       "        <td>Burgers</td>\n",
       "        <td>109 Washington St</td>\n",
       "        <td>New York</td>\n",
       "        <td>$$$</td>\n",
       "    </tr>\n",
       "</table>"
      ],
      "text/plain": [
       "[(251, u'Cafe Sabarsky', u'(212) 288-0665', 4.0, u'Burgers', u'1048 5th Ave', u'New York', u'$$'),\n",
       " (179, u'Schilling', u'(212) 406-1200', 4.5, u'Burgers', u'109 Washington St', u'New York', u'$$$')]"
      ]
     },
     "execution_count": 107,
     "metadata": {},
     "output_type": "execute_result"
    }
   ],
   "source": [
    "%%sql \n",
    "SELECT r.id,r.name,r.phone, r.rating, c.title, a.street, a.city,r.price\n",
    "from restaurant r, category c, restaurant_by_category rc, address a\n",
    "where r.id=rc.restaurant_id and rc.category_id=c.id and r.addressID = a.addressID \n",
    "and city='New York' and c.title='Burgers'\n",
    "order by price"
   ]
  },
  {
   "cell_type": "markdown",
   "metadata": {},
   "source": [
    "# searching all restaurants and their address in Illinois which supply breakfast & brunch and rating more than 4.5"
   ]
  },
  {
   "cell_type": "code",
   "execution_count": 126,
   "metadata": {
    "collapsed": false
   },
   "outputs": [
    {
     "name": "stdout",
     "output_type": "stream",
     "text": [
      "Done.\n"
     ]
    },
    {
     "data": {
      "text/html": [
       "<table>\n",
       "    <tr>\n",
       "        <th>id</th>\n",
       "        <th>name</th>\n",
       "        <th>phone</th>\n",
       "        <th>rating</th>\n",
       "        <th>title</th>\n",
       "        <th>street</th>\n",
       "        <th>city</th>\n",
       "        <th>price</th>\n",
       "    </tr>\n",
       "    <tr>\n",
       "        <td>5</td>\n",
       "        <td>Bavette's Bar &amp; Boeuf</td>\n",
       "        <td>(312) 624-8154</td>\n",
       "        <td>4.5</td>\n",
       "        <td>Breakfast &amp; Brunch</td>\n",
       "        <td>218 W Kinzie St</td>\n",
       "        <td>Chicago</td>\n",
       "        <td>$$$</td>\n",
       "    </tr>\n",
       "    <tr>\n",
       "        <td>8</td>\n",
       "        <td>Avec</td>\n",
       "        <td>(312) 377-2002</td>\n",
       "        <td>4.5</td>\n",
       "        <td>Breakfast &amp; Brunch</td>\n",
       "        <td>615 W Randolph St</td>\n",
       "        <td>Chicago</td>\n",
       "        <td>$$$</td>\n",
       "    </tr>\n",
       "</table>"
      ],
      "text/plain": [
       "[(5, u\"Bavette's Bar & Boeuf\", u'(312) 624-8154', 4.5, u'Breakfast & Brunch', u'218 W Kinzie St', u'Chicago', u'$$$'),\n",
       " (8, u'Avec', u'(312) 377-2002', 4.5, u'Breakfast & Brunch', u'615 W Randolph St', u'Chicago', u'$$$')]"
      ]
     },
     "execution_count": 126,
     "metadata": {},
     "output_type": "execute_result"
    }
   ],
   "source": [
    "%%sql\n",
    "select  r.id, r.name, r.phone, r.rating, c.title, a.street, a.city,r.price\n",
    "from restaurant r, category c, restaurant_by_category rc, address a\n",
    "where r.id=rc.restaurant_id and rc.category_id=c.id and r.addressID = a.addressID and c.title='Breakfast & Brunch'and rating>=4.5\n",
    "and  a.zip_code In(select b.zip_code\n",
    "            from belong_to b, state s\n",
    "            where s.stateID=b.state_id and s.statename='Illinois') \n"
   ]
  },
  {
   "cell_type": "markdown",
   "metadata": {},
   "source": [
    "# searching all restaurants and their address in New York city which supply burgers or tapas and rating over 4."
   ]
  },
  {
   "cell_type": "code",
   "execution_count": 129,
   "metadata": {
    "collapsed": false
   },
   "outputs": [
    {
     "name": "stdout",
     "output_type": "stream",
     "text": [
      "Done.\n"
     ]
    },
    {
     "data": {
      "text/html": [
       "<table>\n",
       "    <tr>\n",
       "        <th>id</th>\n",
       "        <th>name</th>\n",
       "        <th>phone</th>\n",
       "        <th>rating</th>\n",
       "        <th>title</th>\n",
       "        <th>street</th>\n",
       "        <th>city</th>\n",
       "        <th>price</th>\n",
       "    </tr>\n",
       "    <tr>\n",
       "        <td>168</td>\n",
       "        <td>Covina</td>\n",
       "        <td>(212) 204-0225</td>\n",
       "        <td>4.5</td>\n",
       "        <td>Tapas/Small Plates</td>\n",
       "        <td>127 E 27th St</td>\n",
       "        <td>New York</td>\n",
       "        <td>$$$</td>\n",
       "    </tr>\n",
       "    <tr>\n",
       "        <td>179</td>\n",
       "        <td>Schilling</td>\n",
       "        <td>(212) 406-1200</td>\n",
       "        <td>4.5</td>\n",
       "        <td>Burgers</td>\n",
       "        <td>109 Washington St</td>\n",
       "        <td>New York</td>\n",
       "        <td>$$$</td>\n",
       "    </tr>\n",
       "    <tr>\n",
       "        <td>179</td>\n",
       "        <td>Schilling</td>\n",
       "        <td>(212) 406-1200</td>\n",
       "        <td>4.5</td>\n",
       "        <td>Tapas/Small Plates</td>\n",
       "        <td>109 Washington St</td>\n",
       "        <td>New York</td>\n",
       "        <td>$$$</td>\n",
       "    </tr>\n",
       "    <tr>\n",
       "        <td>231</td>\n",
       "        <td>The Eddy</td>\n",
       "        <td>(646) 895-9884</td>\n",
       "        <td>4.5</td>\n",
       "        <td>Tapas/Small Plates</td>\n",
       "        <td>342 E 6th St</td>\n",
       "        <td>New York</td>\n",
       "        <td>$$$</td>\n",
       "    </tr>\n",
       "    <tr>\n",
       "        <td>268</td>\n",
       "        <td>Wallflower</td>\n",
       "        <td>(646) 682-9842</td>\n",
       "        <td>4.5</td>\n",
       "        <td>Tapas/Small Plates</td>\n",
       "        <td>235 W 12th St</td>\n",
       "        <td>New York</td>\n",
       "        <td>$$$</td>\n",
       "    </tr>\n",
       "    <tr>\n",
       "        <td>136</td>\n",
       "        <td>Gramercy Tavern</td>\n",
       "        <td>(212) 477-0777</td>\n",
       "        <td>4.5</td>\n",
       "        <td>Tapas/Small Plates</td>\n",
       "        <td>42 E 20th St</td>\n",
       "        <td>New York</td>\n",
       "        <td>$$$$</td>\n",
       "    </tr>\n",
       "</table>"
      ],
      "text/plain": [
       "[(168, u'Covina', u'(212) 204-0225', 4.5, u'Tapas/Small Plates', u'127 E 27th St', u'New York', u'$$$'),\n",
       " (179, u'Schilling', u'(212) 406-1200', 4.5, u'Burgers', u'109 Washington St', u'New York', u'$$$'),\n",
       " (179, u'Schilling', u'(212) 406-1200', 4.5, u'Tapas/Small Plates', u'109 Washington St', u'New York', u'$$$'),\n",
       " (231, u'The Eddy', u'(646) 895-9884', 4.5, u'Tapas/Small Plates', u'342 E 6th St', u'New York', u'$$$'),\n",
       " (268, u'Wallflower', u'(646) 682-9842', 4.5, u'Tapas/Small Plates', u'235 W 12th St', u'New York', u'$$$'),\n",
       " (136, u'Gramercy Tavern', u'(212) 477-0777', 4.5, u'Tapas/Small Plates', u'42 E 20th St', u'New York', u'$$$$')]"
      ]
     },
     "execution_count": 129,
     "metadata": {},
     "output_type": "execute_result"
    }
   ],
   "source": [
    "%%sql \n",
    "SELECT r.id,r.name,r.phone, r.rating, c.title, a.street, a.city,r.price\n",
    "from restaurant r, category c, restaurant_by_category rc, address a\n",
    "where r.id=rc.restaurant_id and rc.category_id=c.id and r.addressID = a.addressID \n",
    "and city='New York' and (c.title='Burgers'or upper(c.title)  like upper('%Tapas%')) and rating >4\n",
    "order by price"
   ]
  },
  {
   "cell_type": "markdown",
   "metadata": {},
   "source": [
    "# searching all restaurants in New York city with over 2000 review count which their category only supply by the restaurants."
   ]
  },
  {
   "cell_type": "code",
   "execution_count": 140,
   "metadata": {
    "collapsed": false
   },
   "outputs": [
    {
     "name": "stdout",
     "output_type": "stream",
     "text": [
      "Done.\n"
     ]
    },
    {
     "data": {
      "text/html": [
       "<table>\n",
       "    <tr>\n",
       "        <th>title</th>\n",
       "        <th>name</th>\n",
       "        <th>phone</th>\n",
       "        <th>rating</th>\n",
       "        <th>url</th>\n",
       "    </tr>\n",
       "    <tr>\n",
       "        <td>American Traditional)</td>\n",
       "        <td>Babbo</td>\n",
       "        <td>(212) 777-0303</td>\n",
       "        <td>4.0</td>\n",
       "        <td>https//www.yelp.com/biz/babbo-new-york?adjust_creative=TgDi75JA_PwGLZfvhAmGyw&amp;utm_campaign=yelp_api_v3&amp;utm_medium=api_v3_business_search&amp;utm_source=TgDi75JA_PwGLZfvhAmGyw</td>\n",
       "    </tr>\n",
       "    <tr>\n",
       "        <td>Austrian</td>\n",
       "        <td>Babbo</td>\n",
       "        <td>(212) 777-0303</td>\n",
       "        <td>4.0</td>\n",
       "        <td>https//www.yelp.com/biz/babbo-new-york?adjust_creative=TgDi75JA_PwGLZfvhAmGyw&amp;utm_campaign=yelp_api_v3&amp;utm_medium=api_v3_business_search&amp;utm_source=TgDi75JA_PwGLZfvhAmGyw</td>\n",
       "    </tr>\n",
       "    <tr>\n",
       "        <td>Cafes</td>\n",
       "        <td>The Stanton Social</td>\n",
       "        <td>(212) 995-0099</td>\n",
       "        <td>4.0</td>\n",
       "        <td>https//www.yelp.com/biz/the-stanton-social-new-york?adjust_creative=TgDi75JA_PwGLZfvhAmGyw&amp;utm_campaign=yelp_api_v3&amp;utm_medium=api_v3_business_search&amp;utm_source=TgDi75JA_PwGLZfvhAmGyw</td>\n",
       "    </tr>\n",
       "    <tr>\n",
       "        <td>Japanese</td>\n",
       "        <td>Joe's Shanghai</td>\n",
       "        <td>(212) 233-8888</td>\n",
       "        <td>4.0</td>\n",
       "        <td>https//www.yelp.com/biz/joes-shanghai-new-york-2?adjust_creative=TgDi75JA_PwGLZfvhAmGyw&amp;utm_campaign=yelp_api_v3&amp;utm_medium=api_v3_business_search&amp;utm_source=TgDi75JA_PwGLZfvhAmGyw</td>\n",
       "    </tr>\n",
       "    <tr>\n",
       "        <td>Latin American</td>\n",
       "        <td>ABC Kitchen</td>\n",
       "        <td>(212) 475-5829</td>\n",
       "        <td>4.0</td>\n",
       "        <td>https//www.yelp.com/biz/abc-kitchen-new-york?adjust_creative=TgDi75JA_PwGLZfvhAmGyw&amp;utm_campaign=yelp_api_v3&amp;utm_medium=api_v3_business_search&amp;utm_source=TgDi75JA_PwGLZfvhAmGyw</td>\n",
       "    </tr>\n",
       "    <tr>\n",
       "        <td>Pubs</td>\n",
       "        <td>Becco</td>\n",
       "        <td>(212) 397-7597</td>\n",
       "        <td>4.0</td>\n",
       "        <td>https//www.yelp.com/biz/becco-new-york-4?adjust_creative=TgDi75JA_PwGLZfvhAmGyw&amp;utm_campaign=yelp_api_v3&amp;utm_medium=api_v3_business_search&amp;utm_source=TgDi75JA_PwGLZfvhAmGyw</td>\n",
       "    </tr>\n",
       "    <tr>\n",
       "        <td>Seafood</td>\n",
       "        <td>The Stanton Social</td>\n",
       "        <td>(212) 995-0099</td>\n",
       "        <td>4.0</td>\n",
       "        <td>https//www.yelp.com/biz/the-stanton-social-new-york?adjust_creative=TgDi75JA_PwGLZfvhAmGyw&amp;utm_campaign=yelp_api_v3&amp;utm_medium=api_v3_business_search&amp;utm_source=TgDi75JA_PwGLZfvhAmGyw</td>\n",
       "    </tr>\n",
       "    <tr>\n",
       "        <td>Tacos</td>\n",
       "        <td>The Stanton Social</td>\n",
       "        <td>(212) 995-0099</td>\n",
       "        <td>4.0</td>\n",
       "        <td>https//www.yelp.com/biz/the-stanton-social-new-york?adjust_creative=TgDi75JA_PwGLZfvhAmGyw&amp;utm_campaign=yelp_api_v3&amp;utm_medium=api_v3_business_search&amp;utm_source=TgDi75JA_PwGLZfvhAmGyw</td>\n",
       "    </tr>\n",
       "</table>"
      ],
      "text/plain": [
       "[(u'American Traditional)', u'Babbo', u'(212) 777-0303', 4.0, u'https//www.yelp.com/biz/babbo-new-york?adjust_creative=TgDi75JA_PwGLZfvhAmGyw&utm_campaign=yelp_api_v3&utm_medium=api_v3_business_search&utm_source=TgDi75JA_PwGLZfvhAmGyw'),\n",
       " (u'Austrian', u'Babbo', u'(212) 777-0303', 4.0, u'https//www.yelp.com/biz/babbo-new-york?adjust_creative=TgDi75JA_PwGLZfvhAmGyw&utm_campaign=yelp_api_v3&utm_medium=api_v3_business_search&utm_source=TgDi75JA_PwGLZfvhAmGyw'),\n",
       " (u'Cafes', u'The Stanton Social', u'(212) 995-0099', 4.0, u'https//www.yelp.com/biz/the-stanton-social-new-york?adjust_creative=TgDi75JA_PwGLZfvhAmGyw&utm_campaign=yelp_api_v3&utm_medium=api_v3_business_search&utm_source=TgDi75JA_PwGLZfvhAmGyw'),\n",
       " (u'Japanese', u\"Joe's Shanghai\", u'(212) 233-8888', 4.0, u'https//www.yelp.com/biz/joes-shanghai-new-york-2?adjust_creative=TgDi75JA_PwGLZfvhAmGyw&utm_campaign=yelp_api_v3&utm_medium=api_v3_business_search&utm_source=TgDi75JA_PwGLZfvhAmGyw'),\n",
       " (u'Latin American', u'ABC Kitchen', u'(212) 475-5829', 4.0, u'https//www.yelp.com/biz/abc-kitchen-new-york?adjust_creative=TgDi75JA_PwGLZfvhAmGyw&utm_campaign=yelp_api_v3&utm_medium=api_v3_business_search&utm_source=TgDi75JA_PwGLZfvhAmGyw'),\n",
       " (u'Pubs', u'Becco', u'(212) 397-7597', 4.0, u'https//www.yelp.com/biz/becco-new-york-4?adjust_creative=TgDi75JA_PwGLZfvhAmGyw&utm_campaign=yelp_api_v3&utm_medium=api_v3_business_search&utm_source=TgDi75JA_PwGLZfvhAmGyw'),\n",
       " (u'Seafood', u'The Stanton Social', u'(212) 995-0099', 4.0, u'https//www.yelp.com/biz/the-stanton-social-new-york?adjust_creative=TgDi75JA_PwGLZfvhAmGyw&utm_campaign=yelp_api_v3&utm_medium=api_v3_business_search&utm_source=TgDi75JA_PwGLZfvhAmGyw'),\n",
       " (u'Tacos', u'The Stanton Social', u'(212) 995-0099', 4.0, u'https//www.yelp.com/biz/the-stanton-social-new-york?adjust_creative=TgDi75JA_PwGLZfvhAmGyw&utm_campaign=yelp_api_v3&utm_medium=api_v3_business_search&utm_source=TgDi75JA_PwGLZfvhAmGyw')]"
      ]
     },
     "execution_count": 140,
     "metadata": {},
     "output_type": "execute_result"
    }
   ],
   "source": [
    "%%sql\n",
    "select  c.title, r.name, r.phone, r.rating, r.url\n",
    "from restaurant r, category c, restaurant_by_category rc, address a\n",
    "where r.id=rc.restaurant_id and rc.category_id=c.id and r.addressID=a.addressID and a.city=\"New York\"and review_count>2000\n",
    "group by c.title\n",
    "having count(*) =1\n",
    "order by rating DESC"
   ]
  },
  {
   "cell_type": "markdown",
   "metadata": {},
   "source": [
    "# searching restaurant and address with category title, burgers or tapas, which has most review count."
   ]
  },
  {
   "cell_type": "code",
   "execution_count": 153,
   "metadata": {
    "collapsed": false
   },
   "outputs": [
    {
     "name": "stdout",
     "output_type": "stream",
     "text": [
      "Done.\n"
     ]
    },
    {
     "data": {
      "text/html": [
       "<table>\n",
       "    <tr>\n",
       "        <th>id</th>\n",
       "        <th>name</th>\n",
       "        <th>phone</th>\n",
       "        <th>rating</th>\n",
       "        <th>title</th>\n",
       "        <th>street</th>\n",
       "        <th>city</th>\n",
       "        <th>price</th>\n",
       "    </tr>\n",
       "    <tr>\n",
       "        <td>0</td>\n",
       "        <td>The Purple Pig</td>\n",
       "        <td>(312) 464-1744</td>\n",
       "        <td>4.0</td>\n",
       "        <td>Tapas/Small Plates</td>\n",
       "        <td>500 N Michigan Ave</td>\n",
       "        <td>Chicago</td>\n",
       "        <td>$$</td>\n",
       "    </tr>\n",
       "</table>"
      ],
      "text/plain": [
       "[(0, u'The Purple Pig', u'(312) 464-1744', 4.0, u'Tapas/Small Plates', u'500 N Michigan Ave', u'Chicago', u'$$')]"
      ]
     },
     "execution_count": 153,
     "metadata": {},
     "output_type": "execute_result"
    }
   ],
   "source": [
    "%%sql \n",
    "SELECT distinct r.id,r.name,r.phone, r.rating, c.title, a.street, a.city,r.price\n",
    "from restaurant r, category c, restaurant_by_category rc, address a\n",
    "where r.id=rc.restaurant_id and rc.category_id=c.id and r.addressID = a.addressID \n",
    "and (c.title='Burgers'or upper(c.title)  like upper('%Tapas%')) \n",
    "and review_count = (\n",
    "    select max(r1.review_count)\n",
    "    from restaurant r1, category c1, restaurant_by_category rc1\n",
    "    where r1.id=rc1.restaurant_id and rc1.category_id=c1.id and (c1.title='Burgers'or upper(c1.title)  like upper('%Tapas%')))\n"
   ]
  },
  {
   "cell_type": "markdown",
   "metadata": {},
   "source": [
    "# searching restaurant and address with category title, burgers or tapas, which has most review count."
   ]
  },
  {
   "cell_type": "code",
   "execution_count": 157,
   "metadata": {
    "collapsed": false
   },
   "outputs": [
    {
     "name": "stdout",
     "output_type": "stream",
     "text": [
      "Done.\n"
     ]
    },
    {
     "data": {
      "text/html": [
       "<table>\n",
       "    <tr>\n",
       "        <th>id</th>\n",
       "        <th>name</th>\n",
       "        <th>phone</th>\n",
       "        <th>rating</th>\n",
       "        <th>title</th>\n",
       "        <th>street</th>\n",
       "        <th>city</th>\n",
       "        <th>price</th>\n",
       "    </tr>\n",
       "    <tr>\n",
       "        <td>0</td>\n",
       "        <td>The Purple Pig</td>\n",
       "        <td>(312) 464-1744</td>\n",
       "        <td>4.0</td>\n",
       "        <td>Tapas/Small Plates</td>\n",
       "        <td>500 N Michigan Ave</td>\n",
       "        <td>Chicago</td>\n",
       "        <td>$$</td>\n",
       "    </tr>\n",
       "</table>"
      ],
      "text/plain": [
       "[(0, u'The Purple Pig', u'(312) 464-1744', 4.0, u'Tapas/Small Plates', u'500 N Michigan Ave', u'Chicago', u'$$')]"
      ]
     },
     "execution_count": 157,
     "metadata": {},
     "output_type": "execute_result"
    }
   ],
   "source": [
    "%%sql \n",
    "SELECT r.id,r.name,r.phone, r.rating, c.title, a.street, a.city,r.price\n",
    "from restaurant r, category c, restaurant_by_category rc, address a\n",
    "where r.id=rc.restaurant_id and rc.category_id=c.id and r.addressID = a.addressID \n",
    "and (c.title='Burgers'or upper(c.title)  like upper('%Tapas%')) \n",
    "order by review_count DESC\n",
    "LIMIT 1"
   ]
  },
  {
   "cell_type": "markdown",
   "metadata": {},
   "source": [
    "# searching restaurant and address with category title is breakfast & brunch and rating over 4.5, which has most review count."
   ]
  },
  {
   "cell_type": "code",
   "execution_count": 171,
   "metadata": {
    "collapsed": false
   },
   "outputs": [
    {
     "name": "stdout",
     "output_type": "stream",
     "text": [
      "Done.\n"
     ]
    },
    {
     "data": {
      "text/html": [
       "<table>\n",
       "    <tr>\n",
       "        <th>id</th>\n",
       "        <th>name</th>\n",
       "        <th>phone</th>\n",
       "        <th>rating</th>\n",
       "        <th>title</th>\n",
       "        <th>street</th>\n",
       "        <th>city</th>\n",
       "        <th>price</th>\n",
       "        <th>review_count</th>\n",
       "    </tr>\n",
       "    <tr>\n",
       "        <td>8</td>\n",
       "        <td>Avec</td>\n",
       "        <td>(312) 377-2002</td>\n",
       "        <td>4.5</td>\n",
       "        <td>Breakfast &amp; Brunch</td>\n",
       "        <td>615 W Randolph St</td>\n",
       "        <td>Chicago</td>\n",
       "        <td>$$$</td>\n",
       "        <td>1766</td>\n",
       "    </tr>\n",
       "</table>"
      ],
      "text/plain": [
       "[(8, u'Avec', u'(312) 377-2002', 4.5, u'Breakfast & Brunch', u'615 W Randolph St', u'Chicago', u'$$$', 1766)]"
      ]
     },
     "execution_count": 171,
     "metadata": {},
     "output_type": "execute_result"
    }
   ],
   "source": [
    "%%sql\n",
    "select r.id, r.name, r.phone, r.rating, c.title, a.street, a.city,r.price,r.review_count\n",
    "from restaurant r, category c, restaurant_by_category rc, address a\n",
    "where r.id=rc.restaurant_id and rc.category_id=c.id and r.addressID = a.addressID\n",
    "and c.title='Breakfast & Brunch' and rating >=4.5\n",
    "and r.review_count=(select max(review_count)\n",
    "                    from restaurant r, category c, restaurant_by_category rc\n",
    "    where r.id=rc.restaurant_id and rc.category_id=c.id and c.title='Breakfast & Brunch' and rating>=4.5)\n"
   ]
  },
  {
   "cell_type": "markdown",
   "metadata": {},
   "source": [
    "# searching restaurant and its address which zip_code belong to California, category is \"Breakfast & Brunch\" and  have higest rating"
   ]
  },
  {
   "cell_type": "code",
   "execution_count": 175,
   "metadata": {
    "collapsed": false
   },
   "outputs": [
    {
     "name": "stdout",
     "output_type": "stream",
     "text": [
      "Done.\n"
     ]
    },
    {
     "data": {
      "text/html": [
       "<table>\n",
       "    <tr>\n",
       "        <th>id</th>\n",
       "        <th>name</th>\n",
       "        <th>phone</th>\n",
       "        <th>rating</th>\n",
       "        <th>title</th>\n",
       "        <th>street</th>\n",
       "        <th>city</th>\n",
       "        <th>price</th>\n",
       "    </tr>\n",
       "    <tr>\n",
       "        <td>358</td>\n",
       "        <td>Piperade</td>\n",
       "        <td>(415) 391-2555</td>\n",
       "        <td>4.0</td>\n",
       "        <td>Breakfast &amp; Brunch</td>\n",
       "        <td>1015 Battery St</td>\n",
       "        <td>San Francisco</td>\n",
       "        <td>$$$</td>\n",
       "    </tr>\n",
       "</table>"
      ],
      "text/plain": [
       "[(358, u'Piperade', u'(415) 391-2555', 4.0, u'Breakfast & Brunch', u'1015 Battery St', u'San Francisco', u'$$$')]"
      ]
     },
     "execution_count": 175,
     "metadata": {},
     "output_type": "execute_result"
    }
   ],
   "source": [
    "%%sql\n",
    "select  r.id, r.name, r.phone, r.rating, c.title, a.street, a.city,r.price\n",
    "from restaurant r, category c, restaurant_by_category rc, address a\n",
    "where r.id=rc.restaurant_id and rc.category_id=c.id and r.addressID = a.addressID and c.title='Breakfast & Brunch'\n",
    "and  a.zip_code In(select b.zip_code\n",
    "            from belong_to b, state s\n",
    "            where s.stateID=b.state_id and s.statename='California') \n",
    "order by rating DESC\n",
    "limit 1"
   ]
  },
  {
   "cell_type": "markdown",
   "metadata": {},
   "source": [
    "# searching restaurant and its address which zip_code belong to California and  have higest review count"
   ]
  },
  {
   "cell_type": "code",
   "execution_count": 177,
   "metadata": {
    "collapsed": false
   },
   "outputs": [
    {
     "name": "stdout",
     "output_type": "stream",
     "text": [
      "Done.\n"
     ]
    },
    {
     "data": {
      "text/html": [
       "<table>\n",
       "    <tr>\n",
       "        <th>id</th>\n",
       "        <th>name</th>\n",
       "        <th>phone</th>\n",
       "        <th>rating</th>\n",
       "        <th>title</th>\n",
       "        <th>street</th>\n",
       "        <th>city</th>\n",
       "        <th>price</th>\n",
       "        <th>review_count</th>\n",
       "    </tr>\n",
       "    <tr>\n",
       "        <td>275</td>\n",
       "        <td>Burma Superstar</td>\n",
       "        <td>(415) 387-2147</td>\n",
       "        <td>4.0</td>\n",
       "        <td>Basque</td>\n",
       "        <td>309 Clement St</td>\n",
       "        <td>San Francisco</td>\n",
       "        <td>$$</td>\n",
       "        <td>5676</td>\n",
       "    </tr>\n",
       "</table>"
      ],
      "text/plain": [
       "[(275, u'Burma Superstar', u'(415) 387-2147', 4.0, u'Basque', u'309 Clement St', u'San Francisco', u'$$', 5676)]"
      ]
     },
     "execution_count": 177,
     "metadata": {},
     "output_type": "execute_result"
    }
   ],
   "source": [
    "%%sql\n",
    "select  r.id, r.name, r.phone, r.rating, c.title, a.street, a.city,r.price,review_count\n",
    "from restaurant r, category c, restaurant_by_category rc, address a\n",
    "where r.id=rc.restaurant_id and rc.category_id=c.id and r.addressID = a.addressID\n",
    "and  a.zip_code In(select b.zip_code\n",
    "            from belong_to b, state s\n",
    "            where s.stateID=b.state_id and s.statename='California') \n",
    "order by review_count DESC\n",
    "limit 1\n"
   ]
  },
  {
   "cell_type": "markdown",
   "metadata": {},
   "source": [
    "# searching the restaurant and its address which zip_code belong to New York state and have rating =5"
   ]
  },
  {
   "cell_type": "code",
   "execution_count": 179,
   "metadata": {
    "collapsed": false
   },
   "outputs": [
    {
     "name": "stdout",
     "output_type": "stream",
     "text": [
      "Done.\n"
     ]
    },
    {
     "data": {
      "text/html": [
       "<table>\n",
       "    <tr>\n",
       "        <th>id</th>\n",
       "        <th>name</th>\n",
       "        <th>phone</th>\n",
       "        <th>rating</th>\n",
       "        <th>title</th>\n",
       "        <th>street</th>\n",
       "        <th>city</th>\n",
       "        <th>price</th>\n",
       "        <th>review_count</th>\n",
       "    </tr>\n",
       "    <tr>\n",
       "        <td>250</td>\n",
       "        <td>L'Appart</td>\n",
       "        <td>(212) 981-8577</td>\n",
       "        <td>5.0</td>\n",
       "        <td>Beer Bar</td>\n",
       "        <td>225 Liberty St</td>\n",
       "        <td>New York</td>\n",
       "        <td>$$$$</td>\n",
       "        <td>35</td>\n",
       "    </tr>\n",
       "</table>"
      ],
      "text/plain": [
       "[(250, u\"L'Appart\", u'(212) 981-8577', 5.0, u'Beer Bar', u'225 Liberty St', u'New York', u'$$$$', 35)]"
      ]
     },
     "execution_count": 179,
     "metadata": {},
     "output_type": "execute_result"
    }
   ],
   "source": [
    "%%sql\n",
    "select  r.id, r.name, r.phone, r.rating, c.title, a.street, a.city,r.price,review_count\n",
    "from restaurant r, category c, restaurant_by_category rc, address a\n",
    "where r.id=rc.restaurant_id and rc.category_id=c.id and r.addressID = a.addressID and rating =5\n",
    "and  a.zip_code In(select b.zip_code\n",
    "            from belong_to b, state s\n",
    "            where s.stateID=b.state_id and s.statename='New York')"
   ]
  },
  {
   "cell_type": "markdown",
   "metadata": {},
   "source": [
    "# searching restaurant and its reviews by partical restaurant name \"Meadow\" and order result by review rating"
   ]
  },
  {
   "cell_type": "code",
   "execution_count": 185,
   "metadata": {
    "collapsed": false
   },
   "outputs": [
    {
     "name": "stdout",
     "output_type": "stream",
     "text": [
      "Done.\n"
     ]
    },
    {
     "data": {
      "text/html": [
       "<table>\n",
       "    <tr>\n",
       "        <th>id</th>\n",
       "        <th>name</th>\n",
       "        <th>price</th>\n",
       "        <th>time</th>\n",
       "        <th>rating</th>\n",
       "        <th>text</th>\n",
       "    </tr>\n",
       "    <tr>\n",
       "        <td>200</td>\n",
       "        <td>Meadowsweet</td>\n",
       "        <td>$$$</td>\n",
       "        <td>2017-04-21 093320</td>\n",
       "        <td>4.0</td>\n",
       "        <td>Awesome brunch spot in Williamsburg, highly recommended.<br><br>The waffles looked great topped with fresh berries, whipped cream, and maple syrup, but we didn't...</td>\n",
       "    </tr>\n",
       "    <tr>\n",
       "        <td>200</td>\n",
       "        <td>Meadowsweet</td>\n",
       "        <td>$$$</td>\n",
       "        <td>2017-04-02 151813</td>\n",
       "        <td>5.0</td>\n",
       "        <td>Walked in around 230ish for Sunday brunch. Though the restaurant was full we walked in just as another couple was getting ready to leave. The hostesses and...</td>\n",
       "    </tr>\n",
       "    <tr>\n",
       "        <td>200</td>\n",
       "        <td>Meadowsweet</td>\n",
       "        <td>$$$</td>\n",
       "        <td>2017-03-21 070154</td>\n",
       "        <td>5.0</td>\n",
       "        <td>i randomly happened upon this spot when i was searching for a resto that would take brunch reservations for a large party. i think eater.com led me...</td>\n",
       "    </tr>\n",
       "</table>"
      ],
      "text/plain": [
       "[(200, u'Meadowsweet', u'$$$', u'2017-04-21 093320', 4.0, u\"Awesome brunch spot in Williamsburg, highly recommended.\\n\\nThe waffles looked great topped with fresh berries, whipped cream, and maple syrup, but we didn't...\"),\n",
       " (200, u'Meadowsweet', u'$$$', u'2017-04-02 151813', 5.0, u'Walked in around 230ish for Sunday brunch. Though the restaurant was full we walked in just as another couple was getting ready to leave. The hostesses and...'),\n",
       " (200, u'Meadowsweet', u'$$$', u'2017-03-21 070154', 5.0, u'i randomly happened upon this spot when i was searching for a resto that would take brunch reservations for a large party. i think eater.com led me...')]"
      ]
     },
     "execution_count": 185,
     "metadata": {},
     "output_type": "execute_result"
    }
   ],
   "source": [
    "%%sql\n",
    "select r.id, r.name ,r.price, re.time,re.rating,re.text\n",
    "from restaurant r, review re\n",
    "where r.id=re.restaurant_id and r.name LIKE '%Meadow%'\n",
    "ORDER BY re.rating"
   ]
  },
  {
   "cell_type": "markdown",
   "metadata": {},
   "source": [
    "# searching restaurants and their review in Astoria which category is \"Gastropubs\" then sort result by review rating."
   ]
  },
  {
   "cell_type": "code",
   "execution_count": 192,
   "metadata": {
    "collapsed": false
   },
   "outputs": [
    {
     "name": "stdout",
     "output_type": "stream",
     "text": [
      "Done.\n"
     ]
    },
    {
     "data": {
      "text/html": [
       "<table>\n",
       "    <tr>\n",
       "        <th>name</th>\n",
       "        <th>phone</th>\n",
       "        <th>price</th>\n",
       "        <th>rating</th>\n",
       "        <th>text</th>\n",
       "    </tr>\n",
       "    <tr>\n",
       "        <td>Gastroteca</td>\n",
       "        <td>(718) 729-9080</td>\n",
       "        <td>$$</td>\n",
       "        <td>3.0</td>\n",
       "        <td>Came here on a Saturday @ 1145 we were seated but told we had until 1 to eat. It is better if you make a reservation. It fills up quickly here.<br><br>Good...</td>\n",
       "    </tr>\n",
       "    <tr>\n",
       "        <td>Gastroteca</td>\n",
       "        <td>(718) 729-9080</td>\n",
       "        <td>$$</td>\n",
       "        <td>4.0</td>\n",
       "        <td>Very nice place near Kaufman studios and The Museum of the Moving Image.  Inside was airy and very bright.  <br><br>I had the chicken and waffles (as good as...</td>\n",
       "    </tr>\n",
       "    <tr>\n",
       "        <td>Gastroteca</td>\n",
       "        <td>(718) 729-9080</td>\n",
       "        <td>$$</td>\n",
       "        <td>5.0</td>\n",
       "        <td>The drinks here are STRONG. I came for brunch and had a shandy followed by two Moscow Mules and was definitely feeling the after effects, so don't let the...</td>\n",
       "    </tr>\n",
       "</table>"
      ],
      "text/plain": [
       "[(u'Gastroteca', u'(718) 729-9080', u'$$', 3.0, u'Came here on a Saturday @ 1145 we were seated but told we had until 1 to eat. It is better if you make a reservation. It fills up quickly here.\\n\\nGood...'),\n",
       " (u'Gastroteca', u'(718) 729-9080', u'$$', 4.0, u'Very nice place near Kaufman studios and The Museum of the Moving Image.  Inside was airy and very bright.  \\n\\nI had the chicken and waffles (as good as...'),\n",
       " (u'Gastroteca', u'(718) 729-9080', u'$$', 5.0, u\"The drinks here are STRONG. I came for brunch and had a shandy followed by two Moscow Mules and was definitely feeling the after effects, so don't let the...\")]"
      ]
     },
     "execution_count": 192,
     "metadata": {},
     "output_type": "execute_result"
    }
   ],
   "source": [
    "%%sql\n",
    "select r.name, r.phone, r.price, re.rating, re.text\n",
    "from restaurant r, review re, address a, category c, restaurant_by_category rc\n",
    "where r.id=re.restaurant_id and r.id=rc.restaurant_id and rc.category_id=c.id and r.addressID = a.addressID and \n",
    "c.title='Gastropubs' and a.city='Astoria'\n",
    "order by re.rating"
   ]
  },
  {
   "cell_type": "markdown",
   "metadata": {},
   "source": [
    "# searching restaurants and their reviews which reviewed by reviewer named \"Brent W.\""
   ]
  },
  {
   "cell_type": "code",
   "execution_count": 200,
   "metadata": {
    "collapsed": false
   },
   "outputs": [
    {
     "name": "stdout",
     "output_type": "stream",
     "text": [
      "Done.\n"
     ]
    },
    {
     "data": {
      "text/html": [
       "<table>\n",
       "    <tr>\n",
       "        <th>name</th>\n",
       "        <th>phone</th>\n",
       "        <th>title</th>\n",
       "        <th>rating</th>\n",
       "        <th>text</th>\n",
       "    </tr>\n",
       "    <tr>\n",
       "        <td>The Dawson</td>\n",
       "        <td>(312) 243-8955</td>\n",
       "        <td>Cocktail Bars</td>\n",
       "        <td>4.0</td>\n",
       "        <td>The Dawson is pretty solid all the way around. Came here late to the party and am happy to say, they still deliver.  Great space, concept, look and feel,...</td>\n",
       "    </tr>\n",
       "    <tr>\n",
       "        <td>The Dawson</td>\n",
       "        <td>(312) 243-8955</td>\n",
       "        <td>Wine Bars</td>\n",
       "        <td>4.0</td>\n",
       "        <td>The Dawson is pretty solid all the way around. Came here late to the party and am happy to say, they still deliver.  Great space, concept, look and feel,...</td>\n",
       "    </tr>\n",
       "    <tr>\n",
       "        <td>The Dawson</td>\n",
       "        <td>(312) 243-8955</td>\n",
       "        <td>Latin American</td>\n",
       "        <td>4.0</td>\n",
       "        <td>The Dawson is pretty solid all the way around. Came here late to the party and am happy to say, they still deliver.  Great space, concept, look and feel,...</td>\n",
       "    </tr>\n",
       "    <tr>\n",
       "        <td>Owen &amp; Engine</td>\n",
       "        <td>(773) 235-2930</td>\n",
       "        <td>Seafood</td>\n",
       "        <td>4.0</td>\n",
       "        <td>This place strikes me as a proper English Pub with a smallish space but it works, quite cozy and nice.  The atmo, beer, food, and service - all excellent....</td>\n",
       "    </tr>\n",
       "    <tr>\n",
       "        <td>Owen &amp; Engine</td>\n",
       "        <td>(773) 235-2930</td>\n",
       "        <td>Whiskey Bars</td>\n",
       "        <td>4.0</td>\n",
       "        <td>This place strikes me as a proper English Pub with a smallish space but it works, quite cozy and nice.  The atmo, beer, food, and service - all excellent....</td>\n",
       "    </tr>\n",
       "    <tr>\n",
       "        <td>The Radler</td>\n",
       "        <td>(773) 276-0270</td>\n",
       "        <td>Breweries</td>\n",
       "        <td>4.0</td>\n",
       "        <td>Caveat Lector, I'm gonna talk thru some completely unrelated shiii for about a few good seconds so hold tight.<br><br>First off i ended up in the equivalent of a...</td>\n",
       "    </tr>\n",
       "    <tr>\n",
       "        <td>The Radler</td>\n",
       "        <td>(773) 276-0270</td>\n",
       "        <td>Cajun/Creole</td>\n",
       "        <td>4.0</td>\n",
       "        <td>Caveat Lector, I'm gonna talk thru some completely unrelated shiii for about a few good seconds so hold tight.<br><br>First off i ended up in the equivalent of a...</td>\n",
       "    </tr>\n",
       "    <tr>\n",
       "        <td>The Radler</td>\n",
       "        <td>(773) 276-0270</td>\n",
       "        <td>American Traditional)</td>\n",
       "        <td>4.0</td>\n",
       "        <td>Caveat Lector, I'm gonna talk thru some completely unrelated shiii for about a few good seconds so hold tight.<br><br>First off i ended up in the equivalent of a...</td>\n",
       "    </tr>\n",
       "</table>"
      ],
      "text/plain": [
       "[(u'The Dawson', u'(312) 243-8955', u'Cocktail Bars', 4.0, u'The Dawson is pretty solid all the way around. Came here late to the party and am happy to say, they still deliver.  Great space, concept, look and feel,...'),\n",
       " (u'The Dawson', u'(312) 243-8955', u'Wine Bars', 4.0, u'The Dawson is pretty solid all the way around. Came here late to the party and am happy to say, they still deliver.  Great space, concept, look and feel,...'),\n",
       " (u'The Dawson', u'(312) 243-8955', u'Latin American', 4.0, u'The Dawson is pretty solid all the way around. Came here late to the party and am happy to say, they still deliver.  Great space, concept, look and feel,...'),\n",
       " (u'Owen & Engine', u'(773) 235-2930', u'Seafood', 4.0, u'This place strikes me as a proper English Pub with a smallish space but it works, quite cozy and nice.  The atmo, beer, food, and service - all excellent....'),\n",
       " (u'Owen & Engine', u'(773) 235-2930', u'Whiskey Bars', 4.0, u'This place strikes me as a proper English Pub with a smallish space but it works, quite cozy and nice.  The atmo, beer, food, and service - all excellent....'),\n",
       " (u'The Radler', u'(773) 276-0270', u'Breweries', 4.0, u\"Caveat Lector, I'm gonna talk thru some completely unrelated shiii for about a few good seconds so hold tight.\\n\\nFirst off i ended up in the equivalent of a...\"),\n",
       " (u'The Radler', u'(773) 276-0270', u'Cajun/Creole', 4.0, u\"Caveat Lector, I'm gonna talk thru some completely unrelated shiii for about a few good seconds so hold tight.\\n\\nFirst off i ended up in the equivalent of a...\"),\n",
       " (u'The Radler', u'(773) 276-0270', u'American Traditional)', 4.0, u\"Caveat Lector, I'm gonna talk thru some completely unrelated shiii for about a few good seconds so hold tight.\\n\\nFirst off i ended up in the equivalent of a...\")]"
      ]
     },
     "execution_count": 200,
     "metadata": {},
     "output_type": "execute_result"
    }
   ],
   "source": [
    "%%sql\n",
    "select r.name,r.phone, c.title, re.rating, re.text\n",
    "from restaurant r, review re, category c, restaurant_by_category rc\n",
    "where r.id=re.restaurant_id and r.id=rc.restaurant_id and rc.category_id=c.id and re.name='Brent W.'"
   ]
  },
  {
   "cell_type": "markdown",
   "metadata": {},
   "source": [
    "# searching the reviewer who reviews restaurants at more than three cities."
   ]
  },
  {
   "cell_type": "code",
   "execution_count": 231,
   "metadata": {
    "collapsed": false
   },
   "outputs": [
    {
     "name": "stdout",
     "output_type": "stream",
     "text": [
      "Done.\n"
     ]
    },
    {
     "data": {
      "text/html": [
       "<table>\n",
       "    <tr>\n",
       "        <th>review_by</th>\n",
       "    </tr>\n",
       "    <tr>\n",
       "        <td>Stephanie Y.</td>\n",
       "    </tr>\n",
       "    <tr>\n",
       "        <td>Tiffany H.</td>\n",
       "    </tr>\n",
       "</table>"
      ],
      "text/plain": [
       "[(u'Stephanie Y.',), (u'Tiffany H.',)]"
      ]
     },
     "execution_count": 231,
     "metadata": {},
     "output_type": "execute_result"
    }
   ],
   "source": [
    "%%sql\n",
    "select re.name as review_by\n",
    "from restaurant r, review re, category c, restaurant_by_category rc, address a\n",
    "where r.id=re.restaurant_id and r.id=rc.restaurant_id and rc.category_id=c.id and a.addressID=r.addressID  \n",
    "group by re.name\n",
    "having count(distinct a.city) >=3\n"
   ]
  },
  {
   "cell_type": "markdown",
   "metadata": {},
   "source": [
    "# searching restaurant and its reviews in Chicago and have rating = 5"
   ]
  },
  {
   "cell_type": "code",
   "execution_count": 4,
   "metadata": {
    "collapsed": false
   },
   "outputs": [
    {
     "name": "stdout",
     "output_type": "stream",
     "text": [
      "Done.\n"
     ]
    },
    {
     "data": {
      "text/html": [
       "<table>\n",
       "    <tr>\n",
       "        <th>id</th>\n",
       "        <th>name</th>\n",
       "        <th>phone</th>\n",
       "        <th>title</th>\n",
       "        <th>text</th>\n",
       "        <th>city</th>\n",
       "        <th>review_by</th>\n",
       "    </tr>\n",
       "    <tr>\n",
       "        <td>26</td>\n",
       "        <td>Oriole</td>\n",
       "        <td>(312) 877-5339</td>\n",
       "        <td>Tapas/Small Plates</td>\n",
       "        <td>I came here with my husband for my birthday. Firstly, the service was excellent, staff was friendly. My servers were very knowledgeable, and I got a...</td>\n",
       "        <td>Chicago</td>\n",
       "        <td>Nikhila B.</td>\n",
       "    </tr>\n",
       "    <tr>\n",
       "        <td>26</td>\n",
       "        <td>Oriole</td>\n",
       "        <td>(312) 877-5339</td>\n",
       "        <td>Tapas/Small Plates</td>\n",
       "        <td>I cannot possibly explain enough how truly magical of an experience we had at Oriole. Chef Noah Sandoval and Chef Genie Kwon are truly master artists in...</td>\n",
       "        <td>Chicago</td>\n",
       "        <td>Raheleh K.</td>\n",
       "    </tr>\n",
       "    <tr>\n",
       "        <td>26</td>\n",
       "        <td>Oriole</td>\n",
       "        <td>(312) 877-5339</td>\n",
       "        <td>Tapas/Small Plates</td>\n",
       "        <td>I haven't been to a prixe fixe in awhile so I was looking forward to this for a friends bday.  <br><br>The location-you have to be looking for it to find...</td>\n",
       "        <td>Chicago</td>\n",
       "        <td>Stephanie L.</td>\n",
       "    </tr>\n",
       "</table>"
      ],
      "text/plain": [
       "[(26, u'Oriole', u'(312) 877-5339', u'Tapas/Small Plates', u'I came here with my husband for my birthday. Firstly, the service was excellent, staff was friendly. My servers were very knowledgeable, and I got a...', u'Chicago', u'Nikhila B.'),\n",
       " (26, u'Oriole', u'(312) 877-5339', u'Tapas/Small Plates', u'I cannot possibly explain enough how truly magical of an experience we had at Oriole. Chef Noah Sandoval and Chef Genie Kwon are truly master artists in...', u'Chicago', u'Raheleh K.'),\n",
       " (26, u'Oriole', u'(312) 877-5339', u'Tapas/Small Plates', u\"I haven't been to a prixe fixe in awhile so I was looking forward to this for a friends bday.  \\n\\nThe location-you have to be looking for it to find...\", u'Chicago', u'Stephanie L.')]"
      ]
     },
     "execution_count": 4,
     "metadata": {},
     "output_type": "execute_result"
    }
   ],
   "source": [
    "%%sql\n",
    "select r.id, r.name,r.phone, c.title, re.text,a.city, re.name as review_by\n",
    "from restaurant r, review re, category c, restaurant_by_category rc, address a\n",
    "where r.id=re.restaurant_id and r.id=rc.restaurant_id and rc.category_id=c.id and a.addressID=r.addressID \n",
    "and r.rating=5 and a.city='Chicago'\n"
   ]
  },
  {
   "cell_type": "markdown",
   "metadata": {},
   "source": [
    "# searching restaurant and its review in San Francisco by reviewer named \"Tiffany H.\""
   ]
  },
  {
   "cell_type": "code",
   "execution_count": 221,
   "metadata": {
    "collapsed": false
   },
   "outputs": [
    {
     "name": "stdout",
     "output_type": "stream",
     "text": [
      "Done.\n"
     ]
    },
    {
     "data": {
      "text/html": [
       "<table>\n",
       "    <tr>\n",
       "        <th>id</th>\n",
       "        <th>name</th>\n",
       "        <th>phone</th>\n",
       "        <th>title</th>\n",
       "        <th>rating</th>\n",
       "        <th>text</th>\n",
       "        <th>city</th>\n",
       "        <th>review_by</th>\n",
       "    </tr>\n",
       "    <tr>\n",
       "        <td>278</td>\n",
       "        <td>Kin Khao</td>\n",
       "        <td>(415) 362-7456</td>\n",
       "        <td>Filipino</td>\n",
       "        <td>5.0</td>\n",
       "        <td>Kin Khao is definitely one of the best Thai restaurants I have been to! Highlights of my visit included the Butternut Squash Curry, the Pork Belly, and the...</td>\n",
       "        <td>San Francisco</td>\n",
       "        <td>Tiffany H.</td>\n",
       "    </tr>\n",
       "</table>"
      ],
      "text/plain": [
       "[(278, u'Kin Khao', u'(415) 362-7456', u'Filipino', 5.0, u'Kin Khao is definitely one of the best Thai restaurants I have been to! Highlights of my visit included the Butternut Squash Curry, the Pork Belly, and the...', u'San Francisco', u'Tiffany H.')]"
      ]
     },
     "execution_count": 221,
     "metadata": {},
     "output_type": "execute_result"
    }
   ],
   "source": [
    "%%sql\n",
    "select r.id, r.name,r.phone, c.title, re.rating, re.text,a.city, re.name as review_by\n",
    "from restaurant r, review re, category c, restaurant_by_category rc, address a\n",
    "where r.id=re.restaurant_id and r.id=rc.restaurant_id and rc.category_id=c.id and a.addressID=r.addressID \n",
    "and re.name='Tiffany H.' and city='San Francisco'"
   ]
  },
  {
   "cell_type": "markdown",
   "metadata": {},
   "source": [
    "# searching restaurants and their reviews by reviewer named \"Stephanie Y.\" which the reviewer gives the highest rating."
   ]
  },
  {
   "cell_type": "code",
   "execution_count": 232,
   "metadata": {
    "collapsed": false
   },
   "outputs": [
    {
     "name": "stdout",
     "output_type": "stream",
     "text": [
      "Done.\n"
     ]
    },
    {
     "data": {
      "text/html": [
       "<table>\n",
       "    <tr>\n",
       "        <th>id</th>\n",
       "        <th>name</th>\n",
       "        <th>phone</th>\n",
       "        <th>title</th>\n",
       "        <th>rating</th>\n",
       "        <th>text</th>\n",
       "        <th>city</th>\n",
       "        <th>review_by</th>\n",
       "    </tr>\n",
       "    <tr>\n",
       "        <td>217</td>\n",
       "        <td>Emily</td>\n",
       "        <td>(347) 844-9588</td>\n",
       "        <td>Sandwiches</td>\n",
       "        <td>4.0</td>\n",
       "        <td>Really really delicious pizza. Note. You can take out pizza. Also note by 8pm on a Saturday they were out of their limited count burger. Womp womp. Come...</td>\n",
       "        <td>Brooklyn</td>\n",
       "        <td>Stephanie Y.</td>\n",
       "    </tr>\n",
       "    <tr>\n",
       "        <td>266</td>\n",
       "        <td>Little Pepper</td>\n",
       "        <td>(718) 939-7788</td>\n",
       "        <td>Bakeries</td>\n",
       "        <td>4.0</td>\n",
       "        <td>It's hard to get me to ever rate Sichuan food badly. If it's authentically salty and spicy, I'm all about it. Little Pepper's gotta be REAL up your alley if...</td>\n",
       "        <td>College Point</td>\n",
       "        <td>Stephanie Y.</td>\n",
       "    </tr>\n",
       "</table>"
      ],
      "text/plain": [
       "[(217, u'Emily', u'(347) 844-9588', u'Sandwiches', 4.0, u'Really really delicious pizza. Note. You can take out pizza. Also note by 8pm on a Saturday they were out of their limited count burger. Womp womp. Come...', u'Brooklyn', u'Stephanie Y.'),\n",
       " (266, u'Little Pepper', u'(718) 939-7788', u'Bakeries', 4.0, u\"It's hard to get me to ever rate Sichuan food badly. If it's authentically salty and spicy, I'm all about it. Little Pepper's gotta be REAL up your alley if...\", u'College Point', u'Stephanie Y.')]"
      ]
     },
     "execution_count": 232,
     "metadata": {},
     "output_type": "execute_result"
    }
   ],
   "source": [
    "%%sql\n",
    "select r.id, r.name,r.phone, c.title, re.rating, re.text,a.city, re.name as review_by\n",
    "from restaurant r, review re, category c, restaurant_by_category rc, address a\n",
    "where r.id=re.restaurant_id and r.id=rc.restaurant_id and rc.category_id=c.id and a.addressID=r.addressID \n",
    "and  re.name='Stephanie Y.' \n",
    "and re.rating=(select max(rating) from review where name='Stephanie Y.')"
   ]
  },
  {
   "cell_type": "markdown",
   "metadata": {},
   "source": [
    "# searching the restaurants and their review which review by some reviewer who review restaurants in more than three city then sort the result by reviewer name and rating. "
   ]
  },
  {
   "cell_type": "code",
   "execution_count": 241,
   "metadata": {
    "collapsed": false
   },
   "outputs": [
    {
     "name": "stdout",
     "output_type": "stream",
     "text": [
      "Done.\n"
     ]
    },
    {
     "data": {
      "text/html": [
       "<table>\n",
       "    <tr>\n",
       "        <th>id</th>\n",
       "        <th>name</th>\n",
       "        <th>phone</th>\n",
       "        <th>title</th>\n",
       "        <th>rating</th>\n",
       "        <th>text</th>\n",
       "        <th>city</th>\n",
       "        <th>review_by</th>\n",
       "    </tr>\n",
       "    <tr>\n",
       "        <td>340</td>\n",
       "        <td>Zuni Café</td>\n",
       "        <td>(415) 552-2522</td>\n",
       "        <td>Tapas/Small Plates</td>\n",
       "        <td>3.0</td>\n",
       "        <td>I guess it was A-OK? I mean from the rave reviews as this being known as an iconic SF spot, I gotta say not super impressed. It's a nice central location...</td>\n",
       "        <td>San Francisco</td>\n",
       "        <td>Stephanie Y.</td>\n",
       "    </tr>\n",
       "    <tr>\n",
       "        <td>340</td>\n",
       "        <td>Zuni Café</td>\n",
       "        <td>(415) 552-2522</td>\n",
       "        <td>Diners</td>\n",
       "        <td>3.0</td>\n",
       "        <td>I guess it was A-OK? I mean from the rave reviews as this being known as an iconic SF spot, I gotta say not super impressed. It's a nice central location...</td>\n",
       "        <td>San Francisco</td>\n",
       "        <td>Stephanie Y.</td>\n",
       "    </tr>\n",
       "    <tr>\n",
       "        <td>340</td>\n",
       "        <td>Zuni Café</td>\n",
       "        <td>(415) 552-2522</td>\n",
       "        <td>Tacos</td>\n",
       "        <td>3.0</td>\n",
       "        <td>I guess it was A-OK? I mean from the rave reviews as this being known as an iconic SF spot, I gotta say not super impressed. It's a nice central location...</td>\n",
       "        <td>San Francisco</td>\n",
       "        <td>Stephanie Y.</td>\n",
       "    </tr>\n",
       "    <tr>\n",
       "        <td>217</td>\n",
       "        <td>Emily</td>\n",
       "        <td>(347) 844-9588</td>\n",
       "        <td>Sandwiches</td>\n",
       "        <td>4.0</td>\n",
       "        <td>Really really delicious pizza. Note. You can take out pizza. Also note by 8pm on a Saturday they were out of their limited count burger. Womp womp. Come...</td>\n",
       "        <td>Brooklyn</td>\n",
       "        <td>Stephanie Y.</td>\n",
       "    </tr>\n",
       "    <tr>\n",
       "        <td>266</td>\n",
       "        <td>Little Pepper</td>\n",
       "        <td>(718) 939-7788</td>\n",
       "        <td>Bakeries</td>\n",
       "        <td>4.0</td>\n",
       "        <td>It's hard to get me to ever rate Sichuan food badly. If it's authentically salty and spicy, I'm all about it. Little Pepper's gotta be REAL up your alley if...</td>\n",
       "        <td>College Point</td>\n",
       "        <td>Stephanie Y.</td>\n",
       "    </tr>\n",
       "    <tr>\n",
       "        <td>23</td>\n",
       "        <td>Smoque BBQ</td>\n",
       "        <td>(773) 545-7427</td>\n",
       "        <td>American New)</td>\n",
       "        <td>2.0</td>\n",
       "        <td>Hmmm..I'm disappointed by Midwest 'Que! When there aren't paper towels on the table, you already know that it's just going to be ok. <br><br>When we arrived,...</td>\n",
       "        <td>Chicago</td>\n",
       "        <td>Tiffany H.</td>\n",
       "    </tr>\n",
       "    <tr>\n",
       "        <td>207</td>\n",
       "        <td>La Vara</td>\n",
       "        <td>(718) 422-0065</td>\n",
       "        <td>Soup</td>\n",
       "        <td>4.0</td>\n",
       "        <td>Came here for brunch with some diehard foodies who claimed this is one of their favorite restaurants in all of NYC for dinner - one was getting ready to...</td>\n",
       "        <td>Brooklyn</td>\n",
       "        <td>Tiffany H.</td>\n",
       "    </tr>\n",
       "    <tr>\n",
       "        <td>119</td>\n",
       "        <td>Ramen Takeya</td>\n",
       "        <td>(312) 666-7710</td>\n",
       "        <td>Peruvian</td>\n",
       "        <td>5.0</td>\n",
       "        <td>Ugh, I'm so ramen deprived in IN so I was really excited to stop by Ramen Takeya and Ramen Takeya did not disappoint. <br><br>I had the Spicy Chicken Paitan (Cage...</td>\n",
       "        <td>Chicago</td>\n",
       "        <td>Tiffany H.</td>\n",
       "    </tr>\n",
       "    <tr>\n",
       "        <td>119</td>\n",
       "        <td>Ramen Takeya</td>\n",
       "        <td>(312) 666-7710</td>\n",
       "        <td>Breweries</td>\n",
       "        <td>5.0</td>\n",
       "        <td>Ugh, I'm so ramen deprived in IN so I was really excited to stop by Ramen Takeya and Ramen Takeya did not disappoint. <br><br>I had the Spicy Chicken Paitan (Cage...</td>\n",
       "        <td>Chicago</td>\n",
       "        <td>Tiffany H.</td>\n",
       "    </tr>\n",
       "    <tr>\n",
       "        <td>278</td>\n",
       "        <td>Kin Khao</td>\n",
       "        <td>(415) 362-7456</td>\n",
       "        <td>Filipino</td>\n",
       "        <td>5.0</td>\n",
       "        <td>Kin Khao is definitely one of the best Thai restaurants I have been to! Highlights of my visit included the Butternut Squash Curry, the Pork Belly, and the...</td>\n",
       "        <td>San Francisco</td>\n",
       "        <td>Tiffany H.</td>\n",
       "    </tr>\n",
       "</table>"
      ],
      "text/plain": [
       "[(340, u'Zuni Caf\\xe9', u'(415) 552-2522', u'Tapas/Small Plates', 3.0, u\"I guess it was A-OK? I mean from the rave reviews as this being known as an iconic SF spot, I gotta say not super impressed. It's a nice central location...\", u'San Francisco', u'Stephanie Y.'),\n",
       " (340, u'Zuni Caf\\xe9', u'(415) 552-2522', u'Diners', 3.0, u\"I guess it was A-OK? I mean from the rave reviews as this being known as an iconic SF spot, I gotta say not super impressed. It's a nice central location...\", u'San Francisco', u'Stephanie Y.'),\n",
       " (340, u'Zuni Caf\\xe9', u'(415) 552-2522', u'Tacos', 3.0, u\"I guess it was A-OK? I mean from the rave reviews as this being known as an iconic SF spot, I gotta say not super impressed. It's a nice central location...\", u'San Francisco', u'Stephanie Y.'),\n",
       " (217, u'Emily', u'(347) 844-9588', u'Sandwiches', 4.0, u'Really really delicious pizza. Note. You can take out pizza. Also note by 8pm on a Saturday they were out of their limited count burger. Womp womp. Come...', u'Brooklyn', u'Stephanie Y.'),\n",
       " (266, u'Little Pepper', u'(718) 939-7788', u'Bakeries', 4.0, u\"It's hard to get me to ever rate Sichuan food badly. If it's authentically salty and spicy, I'm all about it. Little Pepper's gotta be REAL up your alley if...\", u'College Point', u'Stephanie Y.'),\n",
       " (23, u'Smoque BBQ', u'(773) 545-7427', u'American New)', 2.0, u\"Hmmm..I'm disappointed by Midwest 'Que! When there aren't paper towels on the table, you already know that it's just going to be ok. \\n\\nWhen we arrived,...\", u'Chicago', u'Tiffany H.'),\n",
       " (207, u'La Vara', u'(718) 422-0065', u'Soup', 4.0, u'Came here for brunch with some diehard foodies who claimed this is one of their favorite restaurants in all of NYC for dinner - one was getting ready to...', u'Brooklyn', u'Tiffany H.'),\n",
       " (119, u'Ramen Takeya', u'(312) 666-7710', u'Peruvian', 5.0, u\"Ugh, I'm so ramen deprived in IN so I was really excited to stop by Ramen Takeya and Ramen Takeya did not disappoint. \\n\\nI had the Spicy Chicken Paitan (Cage...\", u'Chicago', u'Tiffany H.'),\n",
       " (119, u'Ramen Takeya', u'(312) 666-7710', u'Breweries', 5.0, u\"Ugh, I'm so ramen deprived in IN so I was really excited to stop by Ramen Takeya and Ramen Takeya did not disappoint. \\n\\nI had the Spicy Chicken Paitan (Cage...\", u'Chicago', u'Tiffany H.'),\n",
       " (278, u'Kin Khao', u'(415) 362-7456', u'Filipino', 5.0, u'Kin Khao is definitely one of the best Thai restaurants I have been to! Highlights of my visit included the Butternut Squash Curry, the Pork Belly, and the...', u'San Francisco', u'Tiffany H.')]"
      ]
     },
     "execution_count": 241,
     "metadata": {},
     "output_type": "execute_result"
    }
   ],
   "source": [
    "%%sql \n",
    "select r.id, r.name,r.phone, c.title, re.rating, re.text,a.city, re.name as review_by\n",
    "from restaurant r, review re, category c, restaurant_by_category rc, address a\n",
    "where r.id=re.restaurant_id and r.id=rc.restaurant_id and rc.category_id=c.id and a.addressID=r.addressID \n",
    "and  re.name IN (select re.name \n",
    "from restaurant r, review re, category c, restaurant_by_category rc, address a\n",
    "where r.id=re.restaurant_id and r.id=rc.restaurant_id and rc.category_id=c.id and a.addressID=r.addressID  \n",
    "group by re.name\n",
    "having count(distinct a.city) >=3\n",
    ")\n",
    "order by re.name,re.rating"
   ]
  },
  {
   "cell_type": "code",
   "execution_count": null,
   "metadata": {
    "collapsed": true
   },
   "outputs": [],
   "source": []
  },
  {
   "cell_type": "code",
   "execution_count": null,
   "metadata": {
    "collapsed": true
   },
   "outputs": [],
   "source": []
  },
  {
   "cell_type": "code",
   "execution_count": null,
   "metadata": {
    "collapsed": true
   },
   "outputs": [],
   "source": []
  },
  {
   "cell_type": "code",
   "execution_count": null,
   "metadata": {
    "collapsed": true
   },
   "outputs": [],
   "source": []
  },
  {
   "cell_type": "code",
   "execution_count": null,
   "metadata": {
    "collapsed": true
   },
   "outputs": [],
   "source": []
  }
 ],
 "metadata": {
  "kernelspec": {
   "display_name": "Python 2",
   "language": "python",
   "name": "python2"
  },
  "language_info": {
   "codemirror_mode": {
    "name": "ipython",
    "version": 2
   },
   "file_extension": ".py",
   "mimetype": "text/x-python",
   "name": "python",
   "nbconvert_exporter": "python",
   "pygments_lexer": "ipython2",
   "version": "2.7.13"
  }
 },
 "nbformat": 4,
 "nbformat_minor": 2
}
